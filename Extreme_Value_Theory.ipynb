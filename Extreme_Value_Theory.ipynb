{
 "cells": [
  {
   "cell_type": "code",
   "execution_count": 1,
   "metadata": {
    "scrolled": true
   },
   "outputs": [
    {
     "name": "stdout",
     "output_type": "stream",
     "text": [
      "C:\\Users\\LIMDAESUN\\EVT\n"
     ]
    }
   ],
   "source": [
    "cd C:\\Users\\LIMDAESUN\\EVT"
   ]
  },
  {
   "cell_type": "code",
   "execution_count": 2,
   "metadata": {},
   "outputs": [],
   "source": [
    "import numpy as np\n",
    "import pandas as pd\n",
    "import matplotlib.pyplot as plt\n",
    "import statsmodels.api as sm\n",
    "from scipy.optimize import minimize\n",
    "from scipy.optimize import root"
   ]
  },
  {
   "cell_type": "code",
   "execution_count": 3,
   "metadata": {},
   "outputs": [],
   "source": [
    "data = pd.read_csv('F567C.s2020.HW5.data.csv', index_col=0)\n",
    "data.columns = data.iloc[0]\n",
    "data = data.iloc[1:]\n",
    "data.index = pd.to_datetime(data.index)\n",
    "data = data.astype(np.float64)\n",
    "my_loss = -data.Close.pct_change().iloc[1:]"
   ]
  },
  {
   "cell_type": "markdown",
   "metadata": {},
   "source": [
    " ### MLE of GPD parameters"
   ]
  },
  {
   "cell_type": "markdown",
   "metadata": {},
   "source": [
    "#### Generalized Pareto Distribution\n",
    "$$\n",
    "\\begin{array}{c}\n",
    "G(\\xi, \\beta, X, u) = 1 - ( 1+ \\xi \\frac{X-u}{\\beta})^{-1/\\xi} \\\\\n",
    "g(\\xi, \\beta, X, u) = \\frac{1}{\\beta} ( 1 + \\xi \\frac{X-u}{\\beta})^{- \\frac{1}{\\xi} -1}\n",
    "\\end{array}\n",
    "$$\n",
    "#### Maximum Likelihood Estimator\n",
    "$$\n",
    "\\begin{array}{c}\n",
    " maximize \\  \\sum_{i=1}^{n} (ln \\frac{1}{\\beta} ( 1 + \\xi \\frac{X_i-u}{\\beta})^{- \\frac{1}{\\xi} -1} )\n",
    "\\end{array}\n",
    "$$"
   ]
  },
  {
   "cell_type": "code",
   "execution_count": 4,
   "metadata": {
    "scrolled": false
   },
   "outputs": [],
   "source": [
    "def log_likelihood(my_loss,beta_psi, u) :\n",
    "    extreme_loss = my_loss[my_loss>u]\n",
    "    likelihood = 1/beta_psi[0] * (1 + beta_psi[1]*(extreme_loss-u)/beta_psi[0])**(-1/beta_psi[1]-1) \n",
    "    return np.log(likelihood).sum()\n",
    "def estimate_pareto_params(my_loss, u) : \n",
    "    #######################\n",
    "    ##### initial value ###\n",
    "    #######################\n",
    "    beta = 0.006\n",
    "    psi = 0.15\n",
    "    beta_psi = np.array([beta,psi])    \n",
    "    \n",
    "    extreme_loss = my_loss[my_loss>u]\n",
    "\n",
    "    def minus_log_likelihood(beta_psi) :\n",
    "        return -1 *log_likelihood(my_loss,beta_psi,u)\n",
    "        \n",
    "    bnds = ((0.00001,10), (0.00001,10))\n",
    "    x0 = (beta_psi[0],beta_psi[1])\n",
    "    res = minimize(minus_log_likelihood, x0, method = 'SLSQP', bounds = bnds)    \n",
    "    return res"
   ]
  },
  {
   "cell_type": "markdown",
   "metadata": {},
   "source": [
    " ### Probability function and VaR, ES"
   ]
  },
  {
   "cell_type": "markdown",
   "metadata": {},
   "source": [
    "$$\n",
    "\\begin{array}{c}\n",
    "\\alpha = P(X>VaR) = P(X>u+x) \\\\ \\\\ = P(X>u)(1+\\xi \\frac{x}{\\beta})^{-1/\\xi} = P(X>u)(1+\\xi \\frac{VaR-u}{\\beta})^{-1/\\xi}\n",
    "\\\\\n",
    "\\\\\n",
    "VaR = u + \\frac{\\beta}{\\xi} ( (\\frac{\\alpha}{P(X>u)})^{-\\xi}-1) \\\\ \\\\\n",
    "ES  = \\frac{VaR + \\beta - \\xi u}{1-\\xi} \n",
    "\\end{array}\n",
    "$$"
   ]
  },
  {
   "cell_type": "code",
   "execution_count": 25,
   "metadata": {},
   "outputs": [],
   "source": [
    "def conditional_density(X, beta_psi, u) :\n",
    "    return 1/beta_psi[0]*(1 + beta_psi[1]/beta_psi[0] * (X-u))**(-1-1/beta_psi[1])\n",
    "\n",
    "def cummulated_pareto(X,beta_psi,u) :\n",
    "    return 1 - (1+beta_psi[1] * (X-u)/beta_psi[0]) ** ( -1/beta_psi[1])\n",
    "\n",
    "def Prob(u,X,my_loss) :\n",
    "    P_Excess_U = my_loss[my_loss>u].count() / my_loss.count()\n",
    "    res = estimate_pareto_params(my_loss, u)\n",
    "    return P_Excess_U * (1 - cummulated_pareto(X, res.x, u))\n",
    "\n",
    "def VaR_EVT(my_loss, threshold = 0.01, confid_level = 0.999) :\n",
    "    u = threshold\n",
    "    alpha = 1-confid_level\n",
    "    P_u = (my_loss>u).sum() / len(my_loss)\n",
    "    res = estimate_pareto_params(my_loss, u)\n",
    "    beta , psi = res.x[0] , res.x[1]\n",
    "    VaR = u + beta/psi*( (alpha/P_u)**(-psi)-1 )\n",
    "    return VaR\n",
    "\n",
    "def ES_EVT(my_loss, threshold = 0.01, confid_level = 0.999) :\n",
    "    u = threshold\n",
    "    alpha = 1-confid_level\n",
    "    P_u = (my_loss>u).sum() / len(my_loss)\n",
    "    res = estimate_pareto_params(my_loss, u)\n",
    "    beta , psi = res.x[0] , res.x[1]\n",
    "    VaR = u + beta/psi*( (alpha/P_u)**(-psi)-1 )\n",
    "    return (VaR + beta - psi * u)/(1-psi)\n"
   ]
  },
  {
   "cell_type": "code",
   "execution_count": 28,
   "metadata": {},
   "outputs": [
    {
     "data": {
      "text/plain": [
       "(0.061744150937680695, 0.07957654256739138)"
      ]
     },
     "execution_count": 28,
     "metadata": {},
     "output_type": "execute_result"
    }
   ],
   "source": [
    "VaR_EVT(my_loss), ES_EVT(my_loss)"
   ]
  },
  {
   "cell_type": "code",
   "execution_count": null,
   "metadata": {},
   "outputs": [],
   "source": []
  }
 ],
 "metadata": {
  "kernelspec": {
   "display_name": "Python 3",
   "language": "python",
   "name": "python3"
  },
  "language_info": {
   "codemirror_mode": {
    "name": "ipython",
    "version": 3
   },
   "file_extension": ".py",
   "mimetype": "text/x-python",
   "name": "python",
   "nbconvert_exporter": "python",
   "pygments_lexer": "ipython3",
   "version": "3.7.6"
  }
 },
 "nbformat": 4,
 "nbformat_minor": 4
}
