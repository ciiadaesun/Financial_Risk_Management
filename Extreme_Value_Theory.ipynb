{
 "cells": [
  {
   "cell_type": "code",
   "execution_count": 1,
   "metadata": {
    "scrolled": true
   },
   "outputs": [
    {
     "name": "stdout",
     "output_type": "stream",
     "text": [
      "C:\\Users\\USER\\수정용_금융리스크관리\\Extreme_Value_Theory\\EVT\n"
     ]
    }
   ],
   "source": [
    "cd C:\\Users\\USER\\수정용_금융리스크관리\\Extreme_Value_Theory\\EVT"
   ]
  },
  {
   "cell_type": "code",
   "execution_count": 2,
   "metadata": {},
   "outputs": [],
   "source": [
    "import numpy as np\n",
    "import pandas as pd\n",
    "import matplotlib.pyplot as plt\n",
    "import statsmodels.api as sm\n",
    "from scipy.optimize import minimize\n",
    "from scipy.optimize import root"
   ]
  },
  {
   "cell_type": "code",
   "execution_count": 3,
   "metadata": {},
   "outputs": [],
   "source": [
    "def preprocessing_lossdata(path_price,columns_name = 'Close') :\n",
    "    data = pd.read_csv('F567C.s2020.HW5.data.csv', index_col=0)\n",
    "    data.columns = data.iloc[0]\n",
    "    data = data.iloc[1:]\n",
    "    data.index = pd.to_datetime(data.index)\n",
    "    data = data.astype(np.float64)\n",
    "    my_loss = -data[columns_name].pct_change().iloc[1:]\n",
    "    return my_loss\n",
    "path_price = 'F567C.s2020.HW5.data.csv'\n",
    "my_loss = preprocessing_lossdata(path_price)"
   ]
  },
  {
   "cell_type": "markdown",
   "metadata": {},
   "source": [
    " ### MLE of GPD parameters"
   ]
  },
  {
   "cell_type": "markdown",
   "metadata": {},
   "source": [
    "#### Generalized Pareto Distribution\n",
    "$$\n",
    "\\begin{array}{c}\n",
    "G(\\xi, \\beta, X, u) = 1 - ( 1+ \\xi \\frac{X-u}{\\beta})^{-1/\\xi} \\\\\n",
    "g(\\xi, \\beta, X, u) = \\frac{1}{\\beta} ( 1 + \\xi \\frac{X-u}{\\beta})^{- \\frac{1}{\\xi} -1}\n",
    "\\end{array}\n",
    "$$\n",
    "#### Maximum Likelihood Estimator\n",
    "$$\n",
    "\\begin{array}{c}\n",
    " maximize \\  \\sum_{i=1}^{n} (ln \\frac{1}{\\beta} ( 1 + \\xi \\frac{X_i-u}{\\beta})^{- \\frac{1}{\\xi} -1} )\n",
    "\\end{array}\n",
    "$$\n",
    "\n",
    " #### Probability function and VaR, ES\n",
    "$$\n",
    "\\begin{array}{c}\n",
    "\\alpha = P(X>VaR) = P(X>u+x) \\\\ \\\\ = P(X>u)(1+\\xi \\frac{x}{\\beta})^{-1/\\xi} = P(X>u)(1+\\xi \\frac{VaR-u}{\\beta})^{-1/\\xi}\n",
    "\\\\\n",
    "\\\\\n",
    "VaR = u + \\frac{\\beta}{\\xi} ( (\\frac{\\alpha}{P(X>u)})^{-\\xi}-1) \\\\ \\\\\n",
    "ES  = \\frac{VaR + \\beta - \\xi u}{1-\\xi} \n",
    "\\end{array}\n",
    "$$"
   ]
  },
  {
   "cell_type": "code",
   "execution_count": 4,
   "metadata": {},
   "outputs": [],
   "source": [
    "class GPD :\n",
    "    def cdf(X,beta_xi_array, u) :\n",
    "        ##################################\n",
    "        ## beta_xi_array = [beta, xi] ##\n",
    "        ##################################\n",
    "        return 1-(1+beta_xi_array[1]*(X-u)/beta_xi_array[0])**(-1/beta_xi_array[1])\n",
    "    def pdf(X,beta_xi_array, u) :\n",
    "        ##################################\n",
    "        ## beta_xi_array = [beta, xi] ##\n",
    "        ##################################\n",
    "        return 1/beta_xi_array[0] * (1+ beta_xi_array[1]*(X-u)/beta_xi_array[0])**(-1/beta_xi_array[1]-1)\n",
    "    def log_pdf_sum(X,beta_xi_array,u) :\n",
    "        ###########################\n",
    "        ## Sum of log likelihood ##\n",
    "        ###########################\n",
    "        extreme_X = X[X>u]\n",
    "        likelihood = GPD.pdf(extreme_X,beta_xi_array,u)\n",
    "        return np.log(likelihood).sum()\n",
    "    \n",
    "    def estimate_pareto_params(X, u) :\n",
    "        ###########################\n",
    "        ## Estimate beta and xi  ##\n",
    "        ###########################\n",
    "        beta0 = 0.006\n",
    "        xi0 = 0.15\n",
    "        beta_xi = np.array([beta0 , xi0])\n",
    "        extreme_X = X[X>u]\n",
    "        minus_log_likelihood = lambda beta_xi : -1 * GPD.log_pdf_sum(X,beta_xi,u)\n",
    "        bnds =  ((0.00001,10), (0.00001,10))\n",
    "        x0 = (beta_xi[0], beta_xi[1])\n",
    "        res = minimize(minus_log_likelihood, x0,method = 'SLSQP', bounds = bnds)\n",
    "        return res\n",
    "\n",
    "def Calculate_VaR_and_ES_using_EVT(loss_data, threshold, alpha) :\n",
    "    #########################################\n",
    "    ## loss_data is negative return data    #\n",
    "    ## alpha is a significance level        #\n",
    "    #########################################\n",
    "    u = threshold\n",
    "    beta_xi_array = GPD.estimate_pareto_params(my_loss, u).x\n",
    "    P_X_over_u = len(loss_data[loss_data>u]) / len(loss_data)\n",
    "    VaR = u + beta_xi_array[0]/beta_xi_array[1] * ( (alpha/P_X_over_u )**(-beta_xi_array[1]) -1  )\n",
    "    ES = (VaR + beta_xi_array[0] - beta_xi_array[1] * u)/(1-beta_xi_array[1])\n",
    "    return VaR, ES"
   ]
  },
  {
   "cell_type": "code",
   "execution_count": 5,
   "metadata": {},
   "outputs": [
    {
     "data": {
      "text/plain": [
       "(0.06174415093768072, 0.07957654256739141)"
      ]
     },
     "execution_count": 5,
     "metadata": {},
     "output_type": "execute_result"
    }
   ],
   "source": [
    "Calculate_VaR_and_ES_using_EVT(my_loss, 0.01, 0.001)"
   ]
  },
  {
   "cell_type": "code",
   "execution_count": null,
   "metadata": {},
   "outputs": [],
   "source": []
  }
 ],
 "metadata": {
  "kernelspec": {
   "display_name": "Python 3",
   "language": "python",
   "name": "python3"
  },
  "language_info": {
   "codemirror_mode": {
    "name": "ipython",
    "version": 3
   },
   "file_extension": ".py",
   "mimetype": "text/x-python",
   "name": "python",
   "nbconvert_exporter": "python",
   "pygments_lexer": "ipython3",
   "version": "3.8.5"
  }
 },
 "nbformat": 4,
 "nbformat_minor": 4
}
