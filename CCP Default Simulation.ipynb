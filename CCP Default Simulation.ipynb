{
 "cells": [
  {
   "cell_type": "code",
   "execution_count": 1,
   "metadata": {},
   "outputs": [],
   "source": [
    "import numpy as np\n",
    "import pandas as pd\n",
    "import matplotlib.pyplot as plt\n",
    "from scipy.stats import norm"
   ]
  },
  {
   "cell_type": "code",
   "execution_count": 2,
   "metadata": {},
   "outputs": [],
   "source": [
    "RR = 0.1\n",
    "r = 0"
   ]
  },
  {
   "cell_type": "markdown",
   "metadata": {},
   "source": [
    " # Q1."
   ]
  },
  {
   "cell_type": "code",
   "execution_count": 3,
   "metadata": {},
   "outputs": [],
   "source": [
    "kappa = 4\n",
    "long_term_lambda = 0.01\n",
    "beta = 0.05\n",
    "lambda_1 = 0.01\n",
    "simul_num = 100000\n",
    "N_member = 25\n",
    "Triger = 5\n",
    "dt = 1/52\n",
    "years = 5"
   ]
  },
  {
   "cell_type": "code",
   "execution_count": 4,
   "metadata": {},
   "outputs": [],
   "source": [
    "lambda_lst = np.zeros((52*years + 1,simul_num)).astype(np.float32)\n",
    "weekly_default = np.zeros((52*years + 1,simul_num)).astype(np.float32)\n",
    "\n",
    "lambda_lst[0] = lambda_1\n",
    "for i in range(1,52*years+1) :\n",
    "    num_of_default = (np.random.uniform(0,1,(N_member,simul_num ))< lambda_lst[i-1] * dt).sum(0)\n",
    "    dlambda = kappa*(long_term_lambda - lambda_lst[i-1]) * dt + beta * num_of_default\n",
    "    new_lambda = dlambda + lambda_lst[i-1]\n",
    "    weekly_default[i] = num_of_default\n",
    "    lambda_lst[i] = np.minimum(new_lambda ,1)\n",
    "    \n",
    "ary = np.zeros((12*years, simul_num))\n",
    "month1_weeks = np.array(([4]*8 + [5]*4)*years)\n",
    "b = month1_weeks.cumsum()+1\n",
    "a = month1_weeks.cumsum()-month1_weeks +1\n",
    "for i in range(len(month1_weeks)) :\n",
    "    ary[i] = weekly_default[a[i]:b[i]].sum(0)    "
   ]
  },
  {
   "cell_type": "code",
   "execution_count": 5,
   "metadata": {},
   "outputs": [
    {
     "data": {
      "text/plain": [
       "6"
      ]
     },
     "execution_count": 5,
     "metadata": {},
     "output_type": "execute_result"
    }
   ],
   "source": [
    "((ary>=5).sum(0)>0).sum()"
   ]
  },
  {
   "cell_type": "markdown",
   "metadata": {},
   "source": [
    " # Functionize"
   ]
  },
  {
   "cell_type": "code",
   "execution_count": 6,
   "metadata": {},
   "outputs": [],
   "source": [
    "def defaulted_Case(kappa = 4, long_term_lambda = 0.01, beta = 0.05,\n",
    "                   lambda_1 = 0.01, simul_num = 10**5, N_member = 25, Triger = 5, dt = 1/52, years = 5) :\n",
    "    lambda_lst = np.zeros((52*years + 1,simul_num)).astype(np.float32)\n",
    "    weekly_default = np.zeros((52*years + 1,simul_num)).astype(np.float32)\n",
    "    \n",
    "    lambda_lst[0] = lambda_1\n",
    "    for i in range(1,52*years+1) :\n",
    "        num_of_default = (np.random.uniform(0,1,(N_member,simul_num ))< lambda_lst[i-1] * dt).sum(0)\n",
    "        dlambda = kappa*(long_term_lambda - lambda_lst[i-1]) * dt + beta * num_of_default\n",
    "        new_lambda = dlambda + lambda_lst[i-1]\n",
    "        weekly_default[i] = num_of_default\n",
    "        lambda_lst[i] = np.minimum(new_lambda ,1)\n",
    "    \n",
    "    ary = np.zeros((12*years, simul_num))\n",
    "    month1_weeks = np.array(([4]*8 + [5]*4)*years)\n",
    "    b = month1_weeks.cumsum()+1\n",
    "    a = month1_weeks.cumsum()-month1_weeks +1\n",
    "    for i in range(len(month1_weeks)) :\n",
    "        ary[i] = weekly_default[a[i]:b[i]].sum(0)  \n",
    "    \n",
    "    N_of_Default = ((ary>=5).sum(0)>0).sum()    \n",
    "    return N_of_Default\n",
    "    \n",
    "def defaulted_Case2(kappa = 4, long_term_lambda = 0.01, beta = 0.05,\n",
    "                    lambda_1 = 0.01, simul_num = 100000, N_member = 25, Triger = 5, dt = 1/52, years = 5) :\n",
    "    lambda_lst = np.zeros((52*years + 1,simul_num)).astype(np.float32)\n",
    "    weekly_default = np.zeros((52*years + 1,simul_num)).astype(np.float32)\n",
    "    \n",
    "    lambda_lst[0] = lambda_1\n",
    "    for i in range(1,52*years+1) :\n",
    "        num_of_default = (np.random.uniform(0,1,(N_member,simul_num ))< lambda_lst[i-1] * dt).sum(0)\n",
    "        dlambda = kappa*(long_term_lambda - lambda_lst[i-1]) * dt + beta * num_of_default\n",
    "        new_lambda = dlambda + lambda_lst[i-1]\n",
    "        weekly_default[i] = num_of_default\n",
    "        lambda_lst[i] = np.minimum(new_lambda ,1)\n",
    "    \n",
    "    ary = np.zeros((12*years, simul_num))\n",
    "    month1_weeks = np.array(([4]*8 + [5]*4)*years)\n",
    "    b = month1_weeks.cumsum()+1\n",
    "    a = month1_weeks.cumsum()-month1_weeks +1\n",
    "    for i in range(len(month1_weeks)) :\n",
    "        ary[i] = weekly_default[a[i]:b[i]].sum(0)  \n",
    "        \n",
    "    return ((ary>=5).sum(0)>0)\n",
    "        "
   ]
  },
  {
   "cell_type": "code",
   "execution_count": 7,
   "metadata": {},
   "outputs": [
    {
     "data": {
      "text/plain": [
       "6"
      ]
     },
     "execution_count": 7,
     "metadata": {},
     "output_type": "execute_result"
    }
   ],
   "source": [
    "defaulted_Case()"
   ]
  },
  {
   "cell_type": "code",
   "execution_count": 8,
   "metadata": {},
   "outputs": [
    {
     "data": {
      "text/plain": [
       "5209"
      ]
     },
     "execution_count": 8,
     "metadata": {},
     "output_type": "execute_result"
    }
   ],
   "source": [
    "defaulted_Case(beta = 0.15)"
   ]
  },
  {
   "cell_type": "code",
   "execution_count": 9,
   "metadata": {},
   "outputs": [],
   "source": [
    "def CVA(kappa = 4, long_term_lambda = 0.01, beta = 0.05,        \n",
    "        lambda_1 = 0.01, simul_num = 100000, N_member = 25, Triger = 5,\n",
    "        dt = 1/52, years = 5 , initial_F = 1000000, RR = 0.1, sigma = 0.2) :\n",
    "\n",
    "    Def_Case = defaulted_Case2(kappa = kappa, long_term_lambda = long_term_lambda, beta = beta,\n",
    "                               lambda_1 = lambda_1, simul_num = simul_num, N_member = N_member,\n",
    "                               Triger = Triger, dt = dt, years = years)\n",
    "    \n",
    "    F = initial_F\n",
    "    epsilon = np.random.normal(0,1,(52 * years,simul_num))\n",
    "    F_path = F * np.exp((sigma*np.sqrt(dt) * epsilon).cumsum(0))\n",
    "    Exposure = (F_path[-1,:]-F) * (F_path[-1,:]>F)\n",
    "    CVA = (Def_Case * Exposure * (1-RR)).sum()/simul_num\n",
    "    return CVA"
   ]
  },
  {
   "cell_type": "code",
   "execution_count": 10,
   "metadata": {},
   "outputs": [
    {
     "data": {
      "text/plain": [
       "330"
      ]
     },
     "execution_count": 10,
     "metadata": {},
     "output_type": "execute_result"
    }
   ],
   "source": [
    "#Default Case to 1year\n",
    "defaulted_Case(kappa = 2, long_term_lambda=0.02, lambda_1 = 0.02,simul_num=100000, beta = 0.1, years = 1)"
   ]
  },
  {
   "cell_type": "code",
   "execution_count": 11,
   "metadata": {},
   "outputs": [
    {
     "data": {
      "text/plain": [
       "263.6643154772026"
      ]
     },
     "execution_count": 11,
     "metadata": {},
     "output_type": "execute_result"
    }
   ],
   "source": [
    "#CVA 1year\n",
    "CVA(kappa = 2, long_term_lambda=0.02, lambda_1 = 0.02,simul_num=100000, beta = 0.1, years = 1, sigma = 0.2,initial_F = 1000000)"
   ]
  },
  {
   "cell_type": "markdown",
   "metadata": {},
   "source": [
    " # 2-(b)"
   ]
  },
  {
   "cell_type": "code",
   "execution_count": 13,
   "metadata": {},
   "outputs": [],
   "source": [
    "def defaulted_Case3(kappa = 4, long_term_lambda = 0.01, beta = 0.05,\n",
    "                    lambda_1 = 0.01, simul_num = 100000, N_member = 25, Triger = 5, dt = 1/52, years = 5) :\n",
    "    lambda_lst = np.zeros((52*years + 1,simul_num)).astype(np.float32)\n",
    "    weekly_default = np.zeros((52*years + 1,simul_num)).astype(np.float32)\n",
    "    \n",
    "    lambda_lst[0] = lambda_1\n",
    "    my_CDS_reference_number = 1\n",
    "    my_CDS_reference_default= np.zeros((52*years+1,simul_num)) \n",
    "    for i in range(1,52*years+1) :\n",
    "        firm_default = (np.random.uniform(0,1,(N_member,simul_num ))< lambda_lst[i-1] * dt)\n",
    "        my_CDS_reference_default[i] = firm_default[my_CDS_reference_number,:]\n",
    "        num_of_default = firm_default.sum(0)\n",
    "        dlambda = kappa*(long_term_lambda - lambda_lst[i-1]) * dt + beta * num_of_default\n",
    "        new_lambda = dlambda + lambda_lst[i-1]\n",
    "        weekly_default[i] = num_of_default\n",
    "        lambda_lst[i] = np.minimum(new_lambda ,1)\n",
    "    \n",
    "    ary = np.zeros((12*years, simul_num))\n",
    "    month1_weeks = np.array(([4]*8 + [5]*4)*years)\n",
    "    b = month1_weeks.cumsum()+1\n",
    "    a = month1_weeks.cumsum()-month1_weeks +1\n",
    "    for i in range(len(month1_weeks)) :\n",
    "        ary[i] = weekly_default[a[i]:b[i]].sum(0)\n",
    "        \n",
    "    return ((ary>=5).sum(0)>0) , (my_CDS_reference_default.sum(0)>0)"
   ]
  },
  {
   "cell_type": "code",
   "execution_count": 14,
   "metadata": {},
   "outputs": [],
   "source": [
    "CCP_DF, CDS_reference_DF = defaulted_Case3(kappa = 2, long_term_lambda=0.02, lambda_1 = 0.02,simul_num=100000, beta = 0.1, years = 5)"
   ]
  },
  {
   "cell_type": "code",
   "execution_count": 15,
   "metadata": {},
   "outputs": [],
   "source": [
    "RR_reference = 0.5\n",
    "Principal = 1000000\n",
    "Exposure = CDS_reference_DF * ( 1-RR_reference)  * Principal"
   ]
  },
  {
   "cell_type": "code",
   "execution_count": 16,
   "metadata": {},
   "outputs": [],
   "source": [
    "RR = 0.1\n",
    "simul_num = 100000\n",
    "CVA_CDS = (Exposure * CCP_DF * (1-RR)).sum()/simul_num"
   ]
  },
  {
   "cell_type": "code",
   "execution_count": 17,
   "metadata": {},
   "outputs": [
    {
     "data": {
      "text/plain": [
       "99076.5"
      ]
     },
     "execution_count": 17,
     "metadata": {},
     "output_type": "execute_result"
    }
   ],
   "source": [
    "CVA_CDS"
   ]
  },
  {
   "cell_type": "markdown",
   "metadata": {},
   "source": [
    " # Q3."
   ]
  },
  {
   "cell_type": "code",
   "execution_count": 24,
   "metadata": {},
   "outputs": [],
   "source": [
    "def CVA_bond(kappa = 4, long_term_lambda = 0.01, beta = 0.05,        \n",
    "             lambda_1 = 0.01, simul_num = 100000, N_member = 25, Triger = 5,\n",
    "             dt = 1/52, years = 5 , initial_F = 1000000, RR = 0.1, sigma = 0.2) :\n",
    "\n",
    "    Def_Case = defaulted_Case2(kappa = kappa, long_term_lambda = long_term_lambda, beta = beta,\n",
    "                               lambda_1 = lambda_1, simul_num = simul_num, N_member = N_member,\n",
    "                               Triger = Triger, dt = dt, years = years)\n",
    "    \n",
    "    F = initial_F\n",
    "    epsilon = np.random.normal(0,1,(52 * years,simul_num))\n",
    "    CVA = (Def_Case * F * (1-RR)).sum()/simul_num\n",
    "    return CVA"
   ]
  },
  {
   "cell_type": "code",
   "execution_count": 25,
   "metadata": {},
   "outputs": [
    {
     "data": {
      "text/plain": [
       "220194.0"
      ]
     },
     "execution_count": 25,
     "metadata": {},
     "output_type": "execute_result"
    }
   ],
   "source": [
    "CVA_b = CVA_bond(kappa = 2, long_term_lambda=0.02, lambda_1 = 0.02,simul_num=100000, beta = 0.1, years = 5, sigma = 0.2,initial_F = 1000000)\n",
    "CVA_b"
   ]
  },
  {
   "cell_type": "code",
   "execution_count": 26,
   "metadata": {
    "scrolled": true
   },
   "outputs": [
    {
     "data": {
      "text/plain": [
       "0.220194"
      ]
     },
     "execution_count": 26,
     "metadata": {},
     "output_type": "execute_result"
    }
   ],
   "source": [
    "CVA_b/(1000000)"
   ]
  },
  {
   "cell_type": "code",
   "execution_count": 27,
   "metadata": {},
   "outputs": [
    {
     "data": {
      "text/plain": [
       "0.24326"
      ]
     },
     "execution_count": 27,
     "metadata": {},
     "output_type": "execute_result"
    }
   ],
   "source": [
    "DP_CCP = defaulted_Case(kappa = 2, long_term_lambda=0.02, lambda_1 = 0.02,simul_num=100000, beta = 0.1, years = 5)\n",
    "DP_CCP/(10**5)"
   ]
  },
  {
   "cell_type": "code",
   "execution_count": 28,
   "metadata": {},
   "outputs": [
    {
     "data": {
      "text/plain": [
       "0.21893400000000002"
      ]
     },
     "execution_count": 28,
     "metadata": {},
     "output_type": "execute_result"
    }
   ],
   "source": [
    "DP_CCP/(10**5) * (1-RR)"
   ]
  },
  {
   "cell_type": "code",
   "execution_count": null,
   "metadata": {},
   "outputs": [],
   "source": []
  }
 ],
 "metadata": {
  "kernelspec": {
   "display_name": "Python 3",
   "language": "python",
   "name": "python3"
  },
  "language_info": {
   "codemirror_mode": {
    "name": "ipython",
    "version": 3
   },
   "file_extension": ".py",
   "mimetype": "text/x-python",
   "name": "python",
   "nbconvert_exporter": "python",
   "pygments_lexer": "ipython3",
   "version": "3.7.6"
  }
 },
 "nbformat": 4,
 "nbformat_minor": 4
}
