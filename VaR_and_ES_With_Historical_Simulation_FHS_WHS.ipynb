{
 "cells": [
  {
   "cell_type": "markdown",
   "metadata": {},
   "source": [
    " ## pip install arch prerequired "
   ]
  },
  {
   "cell_type": "code",
   "execution_count": 1,
   "metadata": {
    "scrolled": false
   },
   "outputs": [
    {
     "name": "stdout",
     "output_type": "stream",
     "text": [
      "C:\\Users\\USER\\수정용_금융리스크관리\\VaR_and_ES_With_Historical_Simulation_FHS_WHS\\Historical_Simulation\n"
     ]
    }
   ],
   "source": [
    "cd C:\\Users\\USER\\수정용_금융리스크관리\\VaR_and_ES_With_Historical_Simulation_FHS_WHS\\Historical_Simulation"
   ]
  },
  {
   "cell_type": "code",
   "execution_count": 2,
   "metadata": {},
   "outputs": [],
   "source": [
    "import numpy as np\n",
    "import pandas as pd\n",
    "from arch import arch_model\n",
    "import warnings\n",
    "import tqdm\n",
    "warnings.filterwarnings(action = 'ignore')"
   ]
  },
  {
   "cell_type": "code",
   "execution_count": 3,
   "metadata": {},
   "outputs": [],
   "source": [
    "Price = pd.read_excel('코스피지수.xlsx', parse_dates= ['Date']).set_index('Date')\n",
    "my_ret = Price.pct_change().rename( columns = {Price.columns[0] : '코스피수익률'}).iloc[1:]\n",
    "ret = my_ret[my_ret.columns[0]].dropna()"
   ]
  },
  {
   "cell_type": "markdown",
   "metadata": {},
   "source": [
    " ### ARCH11\n",
    " $$\n",
    "\\begin{array}{c}\n",
    "\\sigma_t^2 = \\omega + \\alpha_1 u_{t-1}^2\n",
    "\\\\\n",
    "\\hat{z}_{t-\\tau} = \\frac{R_{t-\\tau}}{\\sigma_{t-\\tau}} \n",
    "\\end{array}\n",
    "$$\n",
    " ### GARCH11\n",
    " $$\n",
    "\\begin{array}{c}\n",
    "\\sigma_t^2 = \\omega + \\alpha u_{t}^2 + \\beta \\sigma_{t-1}^2\n",
    "\\\\\n",
    "\\hat{z}_{t-\\tau} = \\frac{R_{t-\\tau}}{\\sigma_{t-\\tau}} \n",
    "\\end{array}\n",
    "$$\n"
   ]
  },
  {
   "cell_type": "code",
   "execution_count": 4,
   "metadata": {},
   "outputs": [],
   "source": [
    "class VaR_FHS :\n",
    "    \n",
    "    def ARCH11(ret,alpha = 0.01, max_lag = 252*3) :\n",
    "        q = 1-alpha\n",
    "        am1 = arch_model(ret[-max_lag:], p=1, q=0) \n",
    "        res1 = am1.fit(disp = 0)\n",
    "        Z = ret/res1.conditional_volatility\n",
    "        R = pd.Series(Z * res1.conditional_volatility[-1])\n",
    "        VaR = R.quantile(1-q)\n",
    "        ES = R[R<=VaR].mean()\n",
    "        return {\"VaR\":VaR, \"ES\":ES}\n",
    "    \n",
    "    def GARCH11(ret, alpha = 0.01, max_lag = 252*3) :\n",
    "        q = 1-alpha\n",
    "        gam11 = arch_model(ret[-max_lag:], p=1, q=1)\n",
    "        resg11 = gam11.fit()\n",
    "        Z = ret/resg11.conditional_volatility\n",
    "        R = pd.Series(Z * resg11.conditional_volatility[-1])\n",
    "        VaR = R.quantile(1-q)\n",
    "        ES = R[R<=VaR].mean()\n",
    "        return {\"VaR\":VaR, \"ES\":ES}"
   ]
  },
  {
   "cell_type": "code",
   "execution_count": 5,
   "metadata": {
    "scrolled": false
   },
   "outputs": [
    {
     "name": "stdout",
     "output_type": "stream",
     "text": [
      "Iteration:      1,   Func. Count:      5,   Neg. LLF: 359258.43653791526\n",
      "Iteration:      2,   Func. Count:     14,   Neg. LLF: -105.40991572788168\n",
      "Iteration:      3,   Func. Count:     21,   Neg. LLF: -190.04402869161714\n",
      "Iteration:      4,   Func. Count:     25,   Neg. LLF: 28261.23719155631\n",
      "Iteration:      5,   Func. Count:     30,   Neg. LLF: -144.8408227235272\n",
      "Iteration:      6,   Func. Count:     35,   Neg. LLF: 98786.89500195759\n",
      "Iteration:      7,   Func. Count:     40,   Neg. LLF: -191.7577157191356\n",
      "Iteration:      8,   Func. Count:     44,   Neg. LLF: -191.7679119252778\n",
      "Iteration:      9,   Func. Count:     48,   Neg. LLF: -191.76807965502948\n",
      "Iteration:     10,   Func. Count:     52,   Neg. LLF: -191.76808110194315\n",
      "Iteration:     11,   Func. Count:     55,   Neg. LLF: -191.76808110198493\n"
     ]
    },
    {
     "data": {
      "text/plain": [
       "{'VaR': -0.12201607518312652, 'ES': -0.17704560903705147}"
      ]
     },
     "execution_count": 5,
     "metadata": {},
     "output_type": "execute_result"
    }
   ],
   "source": [
    "VaR_FHS.ARCH11(ret,alpha = 0.01, max_lag = 252*3)"
   ]
  },
  {
   "cell_type": "code",
   "execution_count": 6,
   "metadata": {},
   "outputs": [
    {
     "name": "stdout",
     "output_type": "stream",
     "text": [
      "Iteration:      1,   Func. Count:      6,   Neg. LLF: 120262801070960.6\n",
      "Iteration:      2,   Func. Count:     16,   Neg. LLF: 296834921663.1905\n",
      "Iteration:      3,   Func. Count:     24,   Neg. LLF: -213.40546007304596\n",
      "Optimization terminated successfully    (Exit mode 0)\n",
      "            Current function value: -213.40546181354762\n",
      "            Iterations: 7\n",
      "            Function evaluations: 24\n",
      "            Gradient evaluations: 3\n"
     ]
    },
    {
     "data": {
      "text/plain": [
       "{'VaR': -0.07660381478857012, 'ES': -0.09285053257470324}"
      ]
     },
     "execution_count": 6,
     "metadata": {},
     "output_type": "execute_result"
    }
   ],
   "source": [
    "VaR_FHS.GARCH11(ret,alpha = 0.01, max_lag = 252*3)"
   ]
  },
  {
   "cell_type": "markdown",
   "metadata": {},
   "source": [
    " ### Weighted Historical Simulation\n",
    " $$\n",
    "\\begin{array}{c}\n",
    "\\omega_{\\tau} = \\frac{1-\\lambda}{1-\\lambda^m} \\lambda^{\\tau-1} \\\\ \n",
    "(if \\ \\tau \\ is \\ 1, \\ the \\ most \\ recent \\ wegiht ) \\\\ \n",
    "( m \\ is \\ total \\ observation )\n",
    "\\end{array}\n",
    "$$\n"
   ]
  },
  {
   "cell_type": "code",
   "execution_count": 7,
   "metadata": {},
   "outputs": [],
   "source": [
    "def VaR_WHS(ret, alpha = 0.01, lamb = 0.97) :\n",
    "    q = 1-alpha\n",
    "    m = len(ret)\n",
    "    ret = pd.Series(ret)\n",
    "    tau = np.arange(1,m+1)\n",
    "    w = pd.Series((lamb**(tau-1) * (1-lamb) / (1-lamb**m))[::-1], index = pd.Series(ret).index)\n",
    "    data = pd.concat( [ret, w], axis = 1)\n",
    "    data.columns = ['ret','w']\n",
    "    sorted_data = data.sort_values(by  = [data.columns[0]])\n",
    "    sorted_data['cum_w'] = sorted_data.w.cumsum(0)\n",
    "    n = np.abs(np.array(sorted_data.cum_w) - (1-q)).argmin()\n",
    "    my_data = sorted_data.iloc[n-1:n+2].set_index('cum_w')['ret']\n",
    "    temp = pd.Series([np.nan], index = [1-q])\n",
    "    VaR = pd.concat([temp,my_data], axis = 0).sort_index().interpolate(method = 'linear').loc[1-q]\n",
    "    ES = ret[ret<=VaR].mean()\n",
    "    return {'VaR':VaR, 'ES':ES}"
   ]
  },
  {
   "cell_type": "code",
   "execution_count": 8,
   "metadata": {
    "scrolled": true
   },
   "outputs": [
    {
     "data": {
      "text/plain": [
       "{'VaR': -0.07270484035952518, 'ES': -0.1250012516988628}"
      ]
     },
     "execution_count": 8,
     "metadata": {},
     "output_type": "execute_result"
    }
   ],
   "source": [
    "VaR_WHS(ret, alpha = 0.01, lamb = 0.97)"
   ]
  },
  {
   "cell_type": "code",
   "execution_count": null,
   "metadata": {},
   "outputs": [],
   "source": []
  }
 ],
 "metadata": {
  "kernelspec": {
   "display_name": "Python 3",
   "language": "python",
   "name": "python3"
  },
  "language_info": {
   "codemirror_mode": {
    "name": "ipython",
    "version": 3
   },
   "file_extension": ".py",
   "mimetype": "text/x-python",
   "name": "python",
   "nbconvert_exporter": "python",
   "pygments_lexer": "ipython3",
   "version": "3.8.5"
  }
 },
 "nbformat": 4,
 "nbformat_minor": 4
}
