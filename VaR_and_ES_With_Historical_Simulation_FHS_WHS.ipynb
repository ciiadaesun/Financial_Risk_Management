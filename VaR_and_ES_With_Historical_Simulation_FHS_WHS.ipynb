{
 "cells": [
  {
   "cell_type": "code",
   "execution_count": 1,
   "metadata": {
    "scrolled": false
   },
   "outputs": [
    {
     "name": "stdout",
     "output_type": "stream",
     "text": [
      "C:\\Users\\LIMDAESUN\\Historical_Simulation\n"
     ]
    }
   ],
   "source": [
    "cd C:\\Users\\LIMDAESUN\\Historical_Simulation"
   ]
  },
  {
   "cell_type": "code",
   "execution_count": 2,
   "metadata": {},
   "outputs": [],
   "source": [
    "import numpy as np\n",
    "import pandas as pd\n",
    "from arch import arch_model\n",
    "from scipy.optimize import minimize\n",
    "import statsmodels.api as sm\n",
    "import warnings\n",
    "warnings.filterwarnings(action = 'ignore')"
   ]
  },
  {
   "cell_type": "code",
   "execution_count": 3,
   "metadata": {},
   "outputs": [],
   "source": [
    "Price = pd.read_excel('코스피지수.xlsx', parse_dates= ['Date']).set_index('Date')\n",
    "my_ret = Price.pct_change().rename( columns = {Price.columns[0] : '코스피수익률'}).iloc[1:]\n",
    "ret = my_ret[my_ret.columns[0]].dropna()"
   ]
  },
  {
   "cell_type": "code",
   "execution_count": 4,
   "metadata": {},
   "outputs": [],
   "source": [
    "q = 0.99"
   ]
  },
  {
   "cell_type": "markdown",
   "metadata": {},
   "source": [
    " ### ARCH11\n",
    " $$\n",
    "\\begin{array}{c}\n",
    "\\sigma_t^2 = \\omega + \\alpha_1 u_{t-1}^2\n",
    "\\\\\n",
    "\\hat{z}_{t-\\tau} = \\frac{R_{t-\\tau}}{\\sigma_{t-\\tau}} \n",
    "\\end{array}\n",
    "$$\n",
    " ### GARCH11\n",
    " $$\n",
    "\\begin{array}{c}\n",
    "\\sigma_t^2 = \\omega + \\alpha u_{t}^2 + \\beta \\sigma_{t-1}^2\n",
    "\\\\\n",
    "\\hat{z}_{t-\\tau} = \\frac{R_{t-\\tau}}{\\sigma_{t-\\tau}} \n",
    "\\end{array}\n",
    "$$\n"
   ]
  },
  {
   "cell_type": "code",
   "execution_count": 5,
   "metadata": {},
   "outputs": [],
   "source": [
    "class VaR_FHS :\n",
    "    def ARCH11(ret,q = 0.99, max_lag = 252, ES_result = False) :\n",
    "        am1 = arch_model(ret[-max_lag:], p=1, q=0) \n",
    "        res1 = am1.fit()\n",
    "        Z = ret/res1.conditional_volatility\n",
    "        R = pd.Series(Z * res1.conditional_volatility[-1])\n",
    "        VaR = R.quantile(1-q)\n",
    "        if ES_result == False :\n",
    "            return VaR\n",
    "        else :\n",
    "            ES = R[R<=VaR].mean()\n",
    "            return VaR, ES\n",
    "    def GARCH11(ret, q = 0.99, max_lag = 252, ES_result = False) :\n",
    "        gam11 = arch_model(ret[-max_lag:], p=1, q=1)\n",
    "        resg11 = gam11.fit()\n",
    "        Z = ret/resg11.conditional_volatility\n",
    "        R = pd.Series(Z * resg11.conditional_volatility[-1])\n",
    "        VaR = R.quantile(1-q)\n",
    "        if ES_result == False :\n",
    "            return VaR\n",
    "        else :\n",
    "            ES = R[R<=VaR].mean()\n",
    "            return VaR, ES"
   ]
  },
  {
   "cell_type": "markdown",
   "metadata": {},
   "source": [
    " ### Weighted Historical Simulation\n",
    " $$\n",
    "\\begin{array}{c}\n",
    "\\omega_{\\tau} = \\frac{1-\\lambda}{1-\\lambda^m} \\lambda^{\\tau-1} \\\\ \n",
    "(if \\ \\tau \\ is \\ 1, \\ the \\ most \\ recent \\ wegiht ) \\\\ \n",
    "( m \\ is \\ total \\ observation )\n",
    "\\end{array}\n",
    "$$\n"
   ]
  },
  {
   "cell_type": "code",
   "execution_count": 6,
   "metadata": {},
   "outputs": [],
   "source": [
    "def VaR_WHS(ret, lamb = 0.97, ES_result = False) :\n",
    "    m = len(ret)\n",
    "    ret = pd.Series(ret)\n",
    "    tau = np.arange(1,m+1)\n",
    "    w = pd.Series((lamb**(tau-1) * (1-lamb) / (1-lamb**m))[::-1], index = pd.Series(ret).index)\n",
    "    data = pd.concat( [ret, w], axis = 1)\n",
    "    data.columns = ['ret','w']\n",
    "    sorted_data = data.sort_values(by  = [data.columns[0]])\n",
    "    sorted_data['cum_w'] = sorted_data.w.cumsum(0)\n",
    "    n = np.abs(np.array(sorted_data.cum_w) - (1-q)).argmin()\n",
    "    if sorted_data.cum_w.iloc[n] == np.round(1-q,4) :\n",
    "        VaR = sorted_data.ret.iloc[n]\n",
    "    else :\n",
    "        my_data = sorted_data.iloc[n-1:n+2].set_index('cum_w')['ret']\n",
    "        temp = pd.Series([np.nan], index = [1-q])\n",
    "        VaR = pd.concat([temp,my_data], axis = 0).sort_index().interpolate(method = 'linear').loc[1-q]\n",
    "    if ES_result == False :\n",
    "        return VaR\n",
    "    else :\n",
    "        ES = ret[ret<=VaR].mean()\n",
    "        return VaR, ES"
   ]
  },
  {
   "cell_type": "code",
   "execution_count": 11,
   "metadata": {},
   "outputs": [
    {
     "name": "stdout",
     "output_type": "stream",
     "text": [
      "Iteration:      1,   Func. Count:      5,   Neg. LLF: -183.9798530338926\n",
      "Iteration:      2,   Func. Count:     15,   Neg. LLF: -184.1134694657771\n",
      "Iteration:      3,   Func. Count:     23,   Neg. LLF: -190.0486892618782\n",
      "Iteration:      4,   Func. Count:     28,   Neg. LLF: -190.47651893925746\n",
      "Iteration:      5,   Func. Count:     34,   Neg. LLF: -191.33429165226232\n",
      "Iteration:      6,   Func. Count:     41,   Neg. LLF: -191.39047141691037\n",
      "Iteration:      7,   Func. Count:     46,   Neg. LLF: -191.73041382207907\n",
      "Iteration:      8,   Func. Count:     51,   Neg. LLF: -191.76207511177253\n",
      "Iteration:      9,   Func. Count:     56,   Neg. LLF: -191.76798795167022\n",
      "Iteration:     10,   Func. Count:     61,   Neg. LLF: -191.76808017629475\n",
      "Optimization terminated successfully.    (Exit mode 0)\n",
      "            Current function value: -191.76808105560258\n",
      "            Iterations: 10\n",
      "            Function evaluations: 62\n",
      "            Gradient evaluations: 10\n"
     ]
    },
    {
     "data": {
      "text/plain": [
       "(-0.12201322713431711, -0.17704387963866114)"
      ]
     },
     "execution_count": 11,
     "metadata": {},
     "output_type": "execute_result"
    }
   ],
   "source": [
    "VaR_FHS.ARCH11(ret, ES_result=True)"
   ]
  },
  {
   "cell_type": "code",
   "execution_count": 12,
   "metadata": {
    "scrolled": true
   },
   "outputs": [
    {
     "name": "stdout",
     "output_type": "stream",
     "text": [
      "Iteration:      1,   Func. Count:      6,   Neg. LLF: -213.37767852193053\n",
      "Iteration:      2,   Func. Count:     17,   Neg. LLF: -213.39491054294922\n",
      "Iteration:      3,   Func. Count:     27,   Neg. LLF: -213.4054600995695\n",
      "Positive directional derivative for linesearch    (Exit mode 8)\n",
      "            Current function value: -213.40546184007113\n",
      "            Iterations: 7\n",
      "            Function evaluations: 27\n",
      "            Gradient evaluations: 3\n"
     ]
    },
    {
     "name": "stderr",
     "output_type": "stream",
     "text": [
      "C:\\Users\\LIMDAESUN\\anaconda3\\lib\\site-packages\\arch\\univariate\\base.py:709: ConvergenceWarning: The optimizer returned code 8. The message is:\n",
      "Positive directional derivative for linesearch\n",
      "See scipy.optimize.fmin_slsqp for code meaning.\n",
      "\n",
      "  ConvergenceWarning,\n"
     ]
    },
    {
     "data": {
      "text/plain": [
       "(-0.07660381504649233, -0.09285053303165956)"
      ]
     },
     "execution_count": 12,
     "metadata": {},
     "output_type": "execute_result"
    }
   ],
   "source": [
    "VaR_FHS.GARCH11(ret, ES_result= True)"
   ]
  },
  {
   "cell_type": "code",
   "execution_count": 13,
   "metadata": {},
   "outputs": [
    {
     "data": {
      "text/plain": [
       "(-0.10713640076444142, -0.16453438514442212)"
      ]
     },
     "execution_count": 13,
     "metadata": {},
     "output_type": "execute_result"
    }
   ],
   "source": [
    "VaR_WHS(ret, lamb = 0.98, ES_result=True)"
   ]
  },
  {
   "cell_type": "code",
   "execution_count": null,
   "metadata": {},
   "outputs": [],
   "source": []
  }
 ],
 "metadata": {
  "kernelspec": {
   "display_name": "Python 3",
   "language": "python",
   "name": "python3"
  },
  "language_info": {
   "codemirror_mode": {
    "name": "ipython",
    "version": 3
   },
   "file_extension": ".py",
   "mimetype": "text/x-python",
   "name": "python",
   "nbconvert_exporter": "python",
   "pygments_lexer": "ipython3",
   "version": "3.7.6"
  }
 },
 "nbformat": 4,
 "nbformat_minor": 4
}
