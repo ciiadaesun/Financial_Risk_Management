{
 "cells": [
  {
   "cell_type": "code",
   "execution_count": 1,
   "metadata": {},
   "outputs": [],
   "source": [
    "import numpy as np\n",
    "import pandas as pd\n",
    "import matplotlib.pyplot as plt\n",
    "from scipy.stats import norm\n",
    "from scipy.optimize import root"
   ]
  },
  {
   "cell_type": "markdown",
   "metadata": {},
   "source": [
    " ### Merton Credit Model\n",
    " \\begin{align}\n",
    " \\ E = A_{MKT} N(d_1) - F e^{-rT} N(d_2) .... ⓐ\\\\ \\\\\n",
    " \\ \\sigma_E = \\frac{A_{MKT}}{E} N(d_1) \\sigma_A.... ⓑ \\\\\n",
    " \\\\\n",
    " \\ Using \\ Simultanous \\ Equation \\\\\n",
    " \\ Find \\ Market \\ Value \\ of \\ Asset \\ and \\ Volatility\\ of \\ Asset \\ ( \\ \n",
    " A_{MKT} ,\\ \\sigma_E \\ ) \\\\ \\\\ PD = 1 - N( d_2 ) \\\n",
    " \\end{align}"
   ]
  },
  {
   "cell_type": "code",
   "execution_count": 2,
   "metadata": {},
   "outputs": [],
   "source": [
    "def Optimize_Merton(F,r,T,sigma_E,E_market_value) :\n",
    "    E_market = E_market_value\n",
    "    def EandsigmaE(x,F) :\n",
    "        sig_A = abs(x[0])\n",
    "        A = max(x[1], E_market_value)\n",
    "        d1 = (np.log(A/F) + (r + 0.5 * sig_A**2)*T)/(sig_A * np.sqrt(T))\n",
    "        d2 = d1 - sig_A * np.sqrt(T)\n",
    "        Nd1 = norm.cdf(d1)\n",
    "        Nd2 = norm.cdf(d2)\n",
    "        E = max(A * Nd1 - F * np.exp(-r * T) * Nd2, 0.001)\n",
    "        sig_E = A/E * Nd1 * sig_A\n",
    "        return np.array([sig_E,E])\n",
    "    def fun(x,F,ans) :\n",
    "        return EandsigmaE(x,F) - ans\n",
    "\n",
    "    x0 = np.array([sigma_E, int(F+E_market)])\n",
    "    ret = root(fun, x0, args = (F, np.array([sigma_E,E_market]) ) )\n",
    "    sigA, MV_Asset = ret.x[0], ret.x[1] ## Return sigA and Market Value of Asset\n",
    "    return abs(sigA) , MV_Asset\n",
    "\n",
    "def Merton_Debt_Value(F,r,T,sigma_E, E_market_value) :\n",
    "    sig_A , A = Optimize_Merton(F, r, T, sigma_E, E_market_value)\n",
    "    d1 = (np.log(A/F) + (r + 0.5 * sig_A**2)*T)/(sig_A * np.sqrt(T))\n",
    "    d2 = d1 - sig_A * np.sqrt(T)\n",
    "    Nd1 = norm.cdf(d1)\n",
    "    Nd2 = norm.cdf(d2)\n",
    "    E = A * Nd1 - F * np.exp(-r * T) * Nd2 \n",
    "    D = A-E\n",
    "    return D\n",
    "\n",
    "def Merton_Default_Prob(F,r,T,sigma_E, E_market_value) :\n",
    "    sig_A , A = Optimize_Merton(F, r, T, sigma_E, E_market_value)\n",
    "    d1 = (np.log(A/F) + (r + 0.5 * sig_A**2)*T)/(sig_A * np.sqrt(T))\n",
    "    d2 = d1 - sig_A * np.sqrt(T)\n",
    "    Nd1 = norm.cdf(d1)\n",
    "    Nd2 = norm.cdf(d2)\n",
    "    PD = 1 - Nd2\n",
    "    Annualized_PD = - 1/T * np.log(1-PD)\n",
    "    return {'Annualized_PD':Annualized_PD, 'sig_A':sig_A, 'MV_Asset':A}\n"
   ]
  },
  {
   "cell_type": "code",
   "execution_count": 3,
   "metadata": {},
   "outputs": [
    {
     "data": {
      "text/plain": [
       "{'Annualized_PD': 0.0008903807540535035,\n",
       " 'sig_A': 0.13273566128967074,\n",
       " 'MV_Asset': 7553.616715155387}"
      ]
     },
     "execution_count": 3,
     "metadata": {},
     "output_type": "execute_result"
    }
   ],
   "source": [
    "Merton_Default_Prob(F = 3000, r = 0.016, T = 10, sigma_E = 0.2, E_market_value = 5000)"
   ]
  }
 ],
 "metadata": {
  "kernelspec": {
   "display_name": "Python 3",
   "language": "python",
   "name": "python3"
  },
  "language_info": {
   "codemirror_mode": {
    "name": "ipython",
    "version": 3
   },
   "file_extension": ".py",
   "mimetype": "text/x-python",
   "name": "python",
   "nbconvert_exporter": "python",
   "pygments_lexer": "ipython3",
   "version": "3.8.5"
  }
 },
 "nbformat": 4,
 "nbformat_minor": 4
}
