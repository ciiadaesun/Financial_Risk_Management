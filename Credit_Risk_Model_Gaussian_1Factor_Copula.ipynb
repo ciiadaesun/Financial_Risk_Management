{
 "cells": [
  {
   "cell_type": "markdown",
   "metadata": {},
   "source": [
    " ### Data << Credit_Risk_Model_Gaussian_1Factor_Copula.zip"
   ]
  },
  {
   "cell_type": "code",
   "execution_count": 1,
   "metadata": {
    "scrolled": false
   },
   "outputs": [
    {
     "name": "stdout",
     "output_type": "stream",
     "text": [
      "C:\\Users\\USER\\수정용_금융리스크관리\n"
     ]
    }
   ],
   "source": [
    "cd C:\\Users\\USER\\수정용_금융리스크관리"
   ]
  },
  {
   "cell_type": "code",
   "execution_count": 2,
   "metadata": {},
   "outputs": [],
   "source": [
    "import numpy as np\n",
    "import pandas as pd\n",
    "import matplotlib.pyplot as plt\n",
    "from scipy.stats import norm\n",
    "import seaborn as sns"
   ]
  },
  {
   "cell_type": "markdown",
   "metadata": {},
   "source": [
    "### Credit Risk Capital using 1 Factor Gaussian Copula Simulation\n",
    "\n",
    "$$\n",
    "\\begin{array}{c}\n",
    "Z =\\beta M + \\sqrt{1-\\beta^2} \\bullet \\epsilon \\\\ \\ \\ \\ \\  = \\sqrt{\\rho} M + \\sqrt{1-\\rho} \\bullet \\epsilon \\\\ \\\\ U = N(Z), \\ \\tau = \\frac{-ln(1-U)}{PD} \\\\\n",
    "\\end{array}\n",
    "$$\n",
    "\n",
    "$$\n",
    "Risk \\ Capital = VaR_{0.999} - E(Loss)\n",
    "$$\n",
    "\n",
    " ## Default Correlation\n",
    " \n",
    " $$\\begin{array}{c}\n",
    " \\rho_{(A,B)} = \\frac{P(A and B) - P(A)P(B)}{\\sqrt{P(A)(1-P(A))}\\sqrt{P(B)(1-P(B))} } \\\\ \\\\\n",
    " \\bar{\\rho}_{Default} = \\frac{Joint - PD^2}{PD(1-PD)}  \\\\ \\\\ \n",
    " Joint = \\frac{X(X-1)}{Y(Y-1)} \\\\  X = number \\ of \\ default \\\\ Y = number \\ of \\ loan\n",
    " \\end{array}$$"
   ]
  },
  {
   "cell_type": "markdown",
   "metadata": {},
   "source": [
    " $$ \n",
    " \\begin{array}{c}\n",
    " \\rho = 0.12 \\times ( \\frac{1 - e^{-50 \\times PD}}{1-e^{-50}}) + 0.24 \\times \n",
    " [1 - \\frac{1 - e^{-50 \\times PD}} {1 - e^{-50}} ]\n",
    " \\\\\n",
    " MA = \\frac{1 + (M-2.5) \\times b}{1 - 1.5 \\times b}\n",
    " \\\\ (M \\ is\\ 1\\ if \\ Retail \\ Asset , \\ else \\ 2.5) \n",
    " \\\\\n",
    " b = {(0.11852 - 0.05478 \\times ln(PD))}^2\n",
    " \\end{array}\n",
    " $$ "
   ]
  },
  {
   "cell_type": "code",
   "execution_count": 3,
   "metadata": {},
   "outputs": [],
   "source": [
    "Z_fun = lambda copula_corr , M , epsilon : np.sqrt(copula_corr) * M + np.sqrt(1-copula_corr) * epsilon\n",
    "tau_fun = lambda Z,PD : -np.log(1-norm.cdf(Z))/PD\n",
    "def one_factor_copula_simulation(port_principal_list,T,RR,PD,copula_corr = 'Auto',simul_num = 10000,alpha= 0.001, M = 2.5) :\n",
    "    ###############################################\n",
    "    # port_principal_list is Principal Value List #\n",
    "    # for example : [100,100,100,...]             #\n",
    "    ###############################################\n",
    "    LGD = 1-RR\n",
    "    b = (0.11852 - 0.05478 * np.log(PD))**2\n",
    "    MA =  ( 1 + (M-2.5)*b )/(1-1.5*b)\n",
    "    Total_num = len(port_principal_list)\n",
    "    M = np.random.normal(size = (1,simul_num))\n",
    "    if copula_corr == 'Auto' :\n",
    "        copula_corr = 0.12 * (1 - np.exp(-50 * PD))/(1-np.exp(-50 * PD)) + 0.24 * ( 1- (1-np.exp(-50 * PD))/(1-np.exp(-50)) )\n",
    "    ##########################\n",
    "    # fast simulation method #\n",
    "    ##########################\n",
    "    half_simul = int(simul_num/2+0.5)\n",
    "    e1 = np.random.normal(size = (Total_num,half_simul))\n",
    "    e2 = -e1\n",
    "    epsilon = np.concatenate([e1,e2],axis=1)[:,:simul_num]\n",
    "    Z = Z_fun(copula_corr, M, epsilon)#np.sqrt(copula_corr) * M + np.sqrt(1-copula_corr) * epsilon\n",
    "    tau = tau_fun(Z,PD)\n",
    "    Simul_Loss_Matrix = np.array(port_principal_list).reshape(-1,1) * (tau<T) * LGD\n",
    "    Total_Simul_Loss = Simul_Loss_Matrix.sum(0)\n",
    "    X = (Simul_Loss_Matrix>0).sum(0)\n",
    "    Y = Total_num\n",
    "    Joint_Prob = X*(X-1)/(Y*(Y-1))\n",
    "    Default_Corr = ((Joint_Prob - PD**2)/(PD * (1-PD))).mean()\n",
    "    Default_Rate = X/Y\n",
    "    WCDR = pd.Series(X/Y).quantile(1-alpha)\n",
    "    EDR = Default_Rate.mean()\n",
    "    Default_Rate_Std = Default_Rate.std()\n",
    "    EL = Total_Simul_Loss.mean()\n",
    "    UEL = pd.Series(Total_Simul_Loss).quantile(1-alpha)\n",
    "    RC = (UEL - EL) * MA\n",
    "    return {'simul_result' : Total_Simul_Loss ,'expected_loss' :EL, 'unexpected_loss':UEL, 'Risk_Capital':RC, 'Default_Corr' : Default_Corr, \"EDR\" : EDR, \"Default_Rate_Std\": Default_Rate_Std, 'WCDR' : WCDR , 'b' : b , 'MA' : MA}\n",
    "\n",
    "def Calibrate_Copula_Corr(port_principal_list,actual_default_std, T, RR,PD, simul_num = 10000, M = 2.5) :\n",
    "    DR_std = np.vectorize(lambda i : one_factor_copula_simulation(port_principal_list,T,RR,PD,copula_corr = i,simul_num = simul_num,alpha= 0.001 , M = M)['Default_Rate_Std'])\n",
    "    Corr_Range = np.linspace(0,0.8,20+1)\n",
    "    Simulated_Std = DR_std(Corr_Range)\n",
    "    Copula_Correl = Corr_Range[np.abs(Simulated_Std - actual_default_std).argmin()]\n",
    "    return Copula_Correl"
   ]
  },
  {
   "cell_type": "code",
   "execution_count": 4,
   "metadata": {
    "scrolled": false
   },
   "outputs": [
    {
     "data": {
      "text/plain": [
       "{'simul_result': array([ 4., 12.,  4., ...,  0.,  0.,  0.]),\n",
       " 'expected_loss': 5.9852,\n",
       " 'unexpected_loss': 108.00200000000041,\n",
       " 'Risk_Capital': 102.0168000000004,\n",
       " 'Default_Corr': 0.034756528874175935,\n",
       " 'EDR': 0.009944166666666667,\n",
       " 'Default_Rate_Std': 0.020600254701095326,\n",
       " 'WCDR': 0.18333333333333332,\n",
       " 'b': 0.13748613089693737,\n",
       " 'MA': 1.0}"
      ]
     },
     "execution_count": 4,
     "metadata": {},
     "output_type": "execute_result"
    }
   ],
   "source": [
    "one_factor_copula_simulation(port_principal_list = [8]*100+[20]*20,\n",
    "                             T = 1,\n",
    "                             RR = 0.5,\n",
    "                             PD = 0.01,\n",
    "                             simul_num = 10000,\n",
    "                             alpha = 0.001,\n",
    "                             M = 1)"
   ]
  },
  {
   "cell_type": "code",
   "execution_count": 5,
   "metadata": {
    "scrolled": true
   },
   "outputs": [
    {
     "data": {
      "text/plain": [
       "0.24"
      ]
     },
     "execution_count": 5,
     "metadata": {},
     "output_type": "execute_result"
    }
   ],
   "source": [
    "Calibrate_Copula_Corr(port_principal_list=[100]*2000,\n",
    "                      actual_default_std = 0.02, \n",
    "                      T = 1, \n",
    "                      RR = 0.5,\n",
    "                      PD = 0.012, simul_num = 10000 , M =1)"
   ]
  },
  {
   "cell_type": "markdown",
   "metadata": {},
   "source": [
    " ## Copula Analytic Calculation\n",
    " $$\n",
    "\\begin{array}{c}\n",
    "WCDR(1yr,0.999, PD, \\rho ) = N( \\frac{ N^{-1}(PD) + \\sqrt{\\rho} N^{-1}(0.999) }\n",
    "{\\sqrt{1-\\rho}   }  )\\\\\\ Credit \\ Risk \\ Capital = VaR(0.999) - EL \\\\\n",
    "\\end{array}\n",
    "$$"
   ]
  },
  {
   "cell_type": "markdown",
   "metadata": {},
   "source": [
    " $$ \n",
    " \\begin{array}{c}\n",
    " \\rho = 0.12 \\times ( \\frac{1 - e^{-50 \\times PD}}{1-e^{-50}}) + 0.24 \\times \n",
    " [1 - \\frac{1 - e^{-50 \\times PD}} {1 - e^{-50}} ]\n",
    " \\\\\n",
    " MA = \\frac{1 + (M-2.5) \\times b}{1 - 1.5 \\times b}\n",
    " \\\\ (M \\ is\\ 1\\ if \\ Retail \\ Asset , \\ else \\ 2.5) \n",
    " \\end{array}\n",
    " $$ "
   ]
  },
  {
   "cell_type": "code",
   "execution_count": 6,
   "metadata": {},
   "outputs": [],
   "source": [
    "def Worst_Case_Default_Rate(PD,copula_corr,alpha = 0.001) :\n",
    "    WCDR = norm.cdf((norm.ppf(PD) +np.sqrt(copula_corr) * norm.ppf(1-alpha))/(np.sqrt(1-copula_corr)) )\n",
    "    return WCDR\n",
    "\n",
    "def Credit_VaR_Gaussian_Copula(port_principal_list, RR, PD,copula_corr = 'Auto', alpha = 0.001, M = 2.5) :\n",
    "    if copula_corr == 'Auto' :\n",
    "        copula_corr = copula_corr = 0.12 * (1 - np.exp(-50 * PD))/(1-np.exp(-50 * PD)) + 0.24 * ( 1- (1-np.exp(-50 * PD))/(1-np.exp(-50)) )\n",
    "    LGD = 1-RR\n",
    "    Total_Principal = np.array(port_principal_list).sum()\n",
    "    WCDR = Worst_Case_Default_Rate(PD,copula_corr,alpha)\n",
    "    UEL = Total_Principal * WCDR * LGD\n",
    "    b = (0.11852 - 0.05478 * np.log(PD))**2\n",
    "    MA =  ( 1 + (M-2.5)*b )/(1-1.5*b)    \n",
    "    return {'unexpected_loss':UEL,'WCDR':WCDR, 'b':b,'MA':MA}\n",
    "\n",
    "def Credit_Risk_Capital_Gaussian_Copula(port_principal_list , RR , PD ,copula_corr = 'Auto', alpha = 0.001, M = 2.5) :\n",
    "    if copula_corr == 'Auto' :\n",
    "        copula_corr = copula_corr = 0.12 * (1 - np.exp(-50 * PD))/(1-np.exp(-50 * PD)) + 0.24 * ( 1- (1-np.exp(-50 * PD))/(1-np.exp(-50)) )\n",
    "    Total_Principal = np.array(port_principal_list).sum()\n",
    "    LGD = 1-RR\n",
    "    my_dict = Credit_VaR_Gaussian_Copula(port_principal_list, RR, PD, copula_corr,alpha )\n",
    "    P_range = np.arange(0.001,1,0.001)\n",
    "    Default_Rate = norm.cdf((norm.ppf(PD) + np.sqrt(copula_corr) * norm.ppf(P_range))/np.sqrt(1-copula_corr))\n",
    "    EDR = Default_Rate.mean()\n",
    "    UEL = my_dict['unexpected_loss']\n",
    "    EL = Total_Principal *EDR * (1-RR)\n",
    "    b = (0.11852 - 0.05478 * np.log(PD))**2\n",
    "    MA =  ( 1 + (M-2.5)*b )/(1-1.5*b)      \n",
    "    RC = (UEL - EL) * MA\n",
    "    my_dict['expected_loss'] = EL , \n",
    "    my_dict['Risk_Capital'] = RC\n",
    "    my_dict['EDR'] = EDR\n",
    "    return my_dict"
   ]
  },
  {
   "cell_type": "code",
   "execution_count": 7,
   "metadata": {
    "scrolled": true
   },
   "outputs": [
    {
     "data": {
      "text/plain": [
       "{'unexpected_loss': 117.54752813013624,\n",
       " 'WCDR': 0.1959125468835604,\n",
       " 'b': 0.13748613089693737,\n",
       " 'MA': 1.2598095009238282,\n",
       " 'expected_loss': (5.918560234155922,),\n",
       " 'Risk_Capital': 111.62896789598032,\n",
       " 'EDR': 0.009864267056926536}"
      ]
     },
     "execution_count": 7,
     "metadata": {},
     "output_type": "execute_result"
    }
   ],
   "source": [
    "Credit_Risk_Capital_Gaussian_Copula(port_principal_list = [8]*100+[20]*20,\n",
    "                                    RR = 0.5,\n",
    "                                    PD = 0.01,\n",
    "                                    alpha = 0.001 , \n",
    "                                    M = 1)"
   ]
  },
  {
   "cell_type": "markdown",
   "metadata": {},
   "source": [
    " ### Estimate Copula Correlation\n",
    " \n",
    " \n",
    " $$\\begin{array}{c}\n",
    " Z =\\beta M + \\sqrt{1-\\beta^2} \\bullet \\epsilon  \\\\  \n",
    " = \\sqrt{\\rho_{cop}} M + \\sqrt{1-\\rho_{cop}} \\bullet \\epsilon\n",
    " \\\\ \\\\\n",
    " Estimate \\  \\rho_{copula} \\ with \\  \\rho_{equity}  \\\\ \\\\ \n",
    " minimize \\sum_{n=1}^{N} \\sum_{m=1}^{M} {[{\\rho_{equity}(n,m)} - \\beta_n \\beta_m]}^2 \\ \\ s.t. \\ \\ 0<=\\beta_i <1 \\\n",
    "\\\\\n",
    " minimize \\sum_{n=1}^{N} \\sum_{m=1}^{M} {[{\\rho_{equity}(n,m)} - \\rho_{copula}]}^2 \\ \\ s.t. \\ \\ 0<=\\rho_{copula} <1 \\\n",
    "\\end{array}$$"
   ]
  },
  {
   "cell_type": "code",
   "execution_count": 8,
   "metadata": {},
   "outputs": [],
   "source": [
    "def copula_correlation_with_equity(equity_price_data , start_day , end_day) :\n",
    "    equity_price_data.index = pd.to_datetime(equity_price_data.index)\n",
    "    Price = pd.DataFrame(equity_price_data).resample('M').last()\n",
    "    Return = Price.pct_change()[pd.to_datetime(start_day) : pd.to_datetime(end_day)]\n",
    "    eq_corr = pd.DataFrame(np.triu(Return.corr())).applymap(lambda x : np.nan if x == 1 or x == 0 else x)\n",
    "    eq_corr_ary = eq_corr.values.reshape(-1)\n",
    "    corrs = pd.Series(eq_corr_ary)[pd.Series(eq_corr_ary).isna() == False].values.reshape(-1,1)\n",
    "    ############################\n",
    "    ## Copula Corr Straint 0 ~ 1 \n",
    "    copul_corr_range = np.arange(0,1,0.02).reshape(1,-1)\n",
    "    #################################\n",
    "    ## (corr_equity - corr_copul)^2 #\n",
    "    min_number = ((corrs - copul_corr_range)**2).sum(0).argmin()\n",
    "    copul_corr_range.reshape(-1)[min_number]\n",
    "    copul_corr = copul_corr_range.reshape(-1)[min_number]\n",
    "    return copul_corr"
   ]
  },
  {
   "cell_type": "code",
   "execution_count": 9,
   "metadata": {},
   "outputs": [
    {
     "data": {
      "text/plain": [
       "0.24"
      ]
     },
     "execution_count": 9,
     "metadata": {},
     "output_type": "execute_result"
    }
   ],
   "source": [
    "Price = pd.read_csv('수정주가.csv',index_col = 0, parse_dates = ['Symbol']).resample('M').last()\n",
    "equity_price_data = Price[Price.columns[:200]]\n",
    "copula_correlation_with_equity(equity_price_data , start_day ='2000-01-31', end_day = '2020-12-31')"
   ]
  },
  {
   "cell_type": "markdown",
   "metadata": {},
   "source": [
    " ### CDO construction with Copula\n",
    " \n",
    " $$\\begin{array}{c}\n",
    "w_{Senior}  =    1 - WCDR_{PD \\ Senior} \\bullet LGD \\\\ \n",
    "w_{Mezzanin} = 1- WCDR_{PD \\ Mezzanin} \\bullet LGD - w_{Senior} \\\\\n",
    "w_{Equity} = 1- w_{Senior} - w_{Mezzanin}\n",
    "\\end{array}$$"
   ]
  },
  {
   "cell_type": "code",
   "execution_count": 10,
   "metadata": {},
   "outputs": [],
   "source": [
    "def CDO_senior_mezzanin_equity(PD, copula_corr, PD_senior, PD_mezzanin , RR) :\n",
    "    LGD = 1-RR\n",
    "    senior_ratio = 1-(Worst_Case_Default_Rate(PD,copula_corr,alpha = PD_senior) * LGD)\n",
    "    mezzanin_ratio = 1- (Worst_Case_Default_Rate(PD,copula_corr,alpha = PD_mezzanin) * LGD) - senior_ratio\n",
    "    equity_ratio = 1- senior_ratio - mezzanin_ratio\n",
    "    return senior_ratio, mezzanin_ratio, equity_ratio"
   ]
  },
  {
   "cell_type": "code",
   "execution_count": 11,
   "metadata": {
    "scrolled": true
   },
   "outputs": [
    {
     "data": {
      "text/plain": [
       "(0.9550165491348034, 0.007624762873304158, 0.03735868799189246)"
      ]
     },
     "execution_count": 11,
     "metadata": {},
     "output_type": "execute_result"
    }
   ],
   "source": [
    "CDO_senior_mezzanin_equity(0.02374, 0.09, 0.003, 0.008, 0.6)"
   ]
  },
  {
   "cell_type": "code",
   "execution_count": null,
   "metadata": {},
   "outputs": [],
   "source": []
  }
 ],
 "metadata": {
  "kernelspec": {
   "display_name": "Python 3",
   "language": "python",
   "name": "python3"
  },
  "language_info": {
   "codemirror_mode": {
    "name": "ipython",
    "version": 3
   },
   "file_extension": ".py",
   "mimetype": "text/x-python",
   "name": "python",
   "nbconvert_exporter": "python",
   "pygments_lexer": "ipython3",
   "version": "3.8.5"
  }
 },
 "nbformat": 4,
 "nbformat_minor": 4
}
