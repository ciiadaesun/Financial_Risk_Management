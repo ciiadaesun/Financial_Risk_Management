{
 "cells": [
  {
   "cell_type": "code",
   "execution_count": 1,
   "metadata": {},
   "outputs": [],
   "source": [
    "import numpy as np\n",
    "import pandas as pd\n",
    "import matplotlib.pyplot as plt\n",
    "import seaborn as sns\n",
    "from scipy.stats import norm\n",
    "from scipy.optimize import root"
   ]
  },
  {
   "cell_type": "code",
   "execution_count": 2,
   "metadata": {},
   "outputs": [],
   "source": [
    "beta = 0.3\n",
    "PD = 0.02374\n",
    "RR = 0.4\n",
    "AAA_PD = 0.003\n",
    "A_PD = 0.008"
   ]
  },
  {
   "cell_type": "code",
   "execution_count": 3,
   "metadata": {},
   "outputs": [],
   "source": [
    "def Portfolio_Loss(PD, beta, RR, maximum_theta = 1) :\n",
    "    x = np.arange(0.001,maximum_theta,0.001)\n",
    "    Loss_rate = 1-RR\n",
    "    C = norm.ppf(PD)\n",
    "    return pd.DataFrame(norm.cdf( - (C-norm.ppf( x / Loss_rate ) * np.sqrt(1-beta**2))/beta  ) , index = x, columns = ['P(Loss)'])"
   ]
  },
  {
   "cell_type": "code",
   "execution_count": 4,
   "metadata": {},
   "outputs": [
    {
     "data": {
      "image/png": "[encoded data removed]",
      "text/plain": [
       "<Figure size 432x288 with 1 Axes>"
      ]
     },
     "metadata": {
      "needs_background": "light"
     },
     "output_type": "display_data"
    }
   ],
   "source": [
    "plt.title('Large_Portfolio_Loss_Distribution')\n",
    "plt.plot(Portfolio_Loss(PD,beta,RR, maximum_theta = 0.3), label = 'beta = '+str(beta) , color = 'blue')\n",
    "plt.legend(loc = 'best')\n",
    "plt.xlabel('Theta x ')\n",
    "plt.ylabel('Prob(Loss)')\n",
    "plt.show()"
   ]
  },
  {
   "cell_type": "code",
   "execution_count": 5,
   "metadata": {},
   "outputs": [],
   "source": [
    "def Portfolio_Loss2(PD, beta, RR, theta) :\n",
    "    Loss_rate = 1-RR\n",
    "    C = norm.ppf(PD)\n",
    "    return norm.cdf( - (C-norm.ppf(theta / Loss_rate ) * np.sqrt(1-beta**2))/beta  )\n",
    "def CDO_Equity_Ratio(PD, target_PD, beta, RR) :\n",
    "    Target_Surv = 1-target_PD\n",
    "    def fun2(x,PD,beta,RR,ans) :\n",
    "        return Portfolio_Loss2(PD,beta,RR,x) - ans\n",
    "\n",
    "    x0 = 0.03\n",
    "    ret0 = root(fun2 , x0, args = (PD,beta ,RR,Target_Surv))\n",
    "    return ret0.x"
   ]
  },
  {
   "cell_type": "code",
   "execution_count": 6,
   "metadata": {},
   "outputs": [],
   "source": [
    "Senior_Ratio = 1- CDO_Equity_Ratio(PD, target_PD = 0.003, beta = beta,RR= RR)\n",
    "Mezzanin_Ratio = (1-CDO_Equity_Ratio(PD, target_PD = 0.008, beta = beta, RR = RR))-Senior_Ratio\n",
    "Equity_Ratio = 1 - Senior_Ratio - Mezzanin_Ratio"
   ]
  },
  {
   "cell_type": "code",
   "execution_count": 7,
   "metadata": {},
   "outputs": [
    {
     "data": {
      "text/plain": [
       "(array([0.93252482]), array([0.01143714]), array([0.05603803]))"
      ]
     },
     "execution_count": 7,
     "metadata": {},
     "output_type": "execute_result"
    }
   ],
   "source": [
    "Senior_Ratio, Mezzanin_Ratio, Equity_Ratio"
   ]
  },
  {
   "cell_type": "code",
   "execution_count": null,
   "metadata": {},
   "outputs": [],
   "source": []
  }
 ],
 "metadata": {
  "kernelspec": {
   "display_name": "Python 3",
   "language": "python",
   "name": "python3"
  },
  "language_info": {
   "codemirror_mode": {
    "name": "ipython",
    "version": 3
   },
   "file_extension": ".py",
   "mimetype": "text/x-python",
   "name": "python",
   "nbconvert_exporter": "python",
   "pygments_lexer": "ipython3",
   "version": "3.7.6"
  }
 },
 "nbformat": 4,
 "nbformat_minor": 4
}
