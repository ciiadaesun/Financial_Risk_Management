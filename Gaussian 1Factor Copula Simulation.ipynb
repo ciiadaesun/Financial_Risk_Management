{
 "cells": [
  {
   "cell_type": "code",
   "execution_count": 2,
   "metadata": {},
   "outputs": [],
   "source": [
    "import numpy as np\n",
    "import pandas as pd\n",
    "import matplotlib.pyplot as plt\n",
    "from scipy.stats import norm\n",
    "import seaborn as sns"
   ]
  },
  {
   "cell_type": "markdown",
   "metadata": {},
   "source": [
    " #### My Portfolio = (8mio loan)*100 + (20 mio loan)* 20\n",
    "  #### 1-(a) Copula Corr = 0"
   ]
  },
  {
   "cell_type": "code",
   "execution_count": 8,
   "metadata": {},
   "outputs": [],
   "source": [
    "def Gaussian_PF_Loss_density(my_port, copula_corr,\n",
    "                             T, LGD, PD, sim_num = 10000,\n",
    "                            Result_Riskcapital = False) :\n",
    "    Total_num = len(my_port)\n",
    "    corr = copula_corr\n",
    "    m = np.random.normal(0,1,size = (1,sim_num))  ## Market Factor ##\n",
    "    epsilon = np.random.normal(0,1,size = (Total_num,sim_num))  \n",
    "    Z = np.sqrt(corr) * m + np.sqrt(1-corr) * epsilon\n",
    "    U = norm.cdf(Z)\n",
    "    tau = -np.log(1-U)/PD\n",
    "    Simul_Loss_Mat = np.array(my_port).reshape(-1,1) * (tau<T) * LGD ## Simul Result Matrix##\n",
    "    Total_Simul_Loss = Simul_Loss_Mat.sum(0)\n",
    "    if Result_Riskcapital == False :\n",
    "        return Total_Simul_Loss\n",
    "    else : \n",
    "        EL = Total_Simul_Loss.mean()\n",
    "        UEL = pd.Series(Total_Simul_Loss).quantile(0.999)\n",
    "        Risk_Capital = UEL - EL\n",
    "        return Total_Simul_Loss, Risk_Capital\n",
    "\n",
    "def Gaussian_Default_Corr(copul_corr,T,LGD,PD,num_obligor,\n",
    "                          Loss_Result = False , sim_num=10000,\n",
    "                          Default_Rate_Result = False ,F = 100):\n",
    "    ################################################\n",
    "    ## Calculate the Gaussian Default Correlation ##\n",
    "    ################################################\n",
    "    Principal = np.array([F]*num_obligor).astype(np.int16)\n",
    "    Total_num = len(Principal)\n",
    "    m = np.random.normal(0,1,(1,sim_num)).astype(np.float32)\n",
    "    epsilon = np.random.normal(0,1,(Total_num,sim_num)).astype(np.float32)\n",
    "    Z = np.sqrt(copul_corr) * m + np.sqrt(1-copul_corr) * epsilon\n",
    "    U = norm.cdf(Z)\n",
    "    tau = -np.log(1-U)/PD\n",
    "    Simul_Loss_Mat = Principal.reshape(-1,1)*(tau<T)*LGD\n",
    "    X = (Simul_Loss_Mat>0).sum(0)                ## X is number of Default \n",
    "    Y = Total_num\n",
    "    Default_Rate = (Simul_Loss_Mat>0).sum(0)/Y   ## Simulated Default Rate Path\n",
    "    Joint_Prob = (X * (X-1) / (Y * (Y-1)))## P(A&B)    \n",
    "    Default_Corr= (Joint_Prob - PD*PD)/(PD*(1-PD))\n",
    "    if Loss_Result == False and Default_Rate_Result == False :\n",
    "        return Default_Corr.mean()\n",
    "    elif Loss_Result == True and Default_Rate_Result == False :\n",
    "        return Default_Corr.mean() , X\n",
    "    elif Loss_Result == False and Default_Rate_Result == True :\n",
    "        return Default_Corr.mean(), Default_Rate\n",
    "    else :\n",
    "        return Default_Corr.mean(), X, Default_Rate\n",
    "    \n",
    "def Calibrate_Copula_Corr(actual_default_std,\n",
    "                          PD, T, LGD, F = 100,\n",
    "                          num_obligor = 2000,sim_num = 5000) :\n",
    "    ########################\n",
    "    ### Correlation Range ##\n",
    "    Range = np.arange(0,1,0.02)\n",
    "    ########################\n",
    "    Default_std_lst = []\n",
    "    for i in Range :\n",
    "        copul_corr = i\n",
    "        Principal = np.array([F]*num_obligor).astype(np.int16)\n",
    "        Total_num = len(Principal)\n",
    "        m = np.random.normal(0,1,(1,sim_num)).astype(np.float32)\n",
    "        epsilon = np.random.normal(0,1,(Total_num,sim_num)).astype(np.float32)\n",
    "        Z = np.sqrt(copul_corr) * m + np.sqrt(1-copul_corr) * epsilon\n",
    "        U = norm.cdf(Z)\n",
    "        tau = -np.log(1-U)/PD\n",
    "        Simul_Loss_Mat = Principal.reshape(-1,1)*(tau<T)*LGD\n",
    "        X = (Simul_Loss_Mat>0).sum(0)                ## X is number of Default \n",
    "        Y = Total_num\n",
    "        Default_Rate = (Simul_Loss_Mat>0).sum(0)/Y   ## Simulated Default Rate Path\n",
    "        Default_std_lst.append(Default_Rate.std())\n",
    "    Copula_Corr = Range[(np.abs(np.array(Default_std_lst) - actual_default_std)).argmin()]\n",
    "    return Copula_Corr    "
   ]
  },
  {
   "cell_type": "code",
   "execution_count": 4,
   "metadata": {},
   "outputs": [],
   "source": [
    "my_port = [8]*100+[20]*20\n",
    "TSL1 = Gaussian_PF_Loss_density(my_port, copula_corr=0, T=1, LGD=0.5, PD=0.012)"
   ]
  },
  {
   "cell_type": "code",
   "execution_count": 5,
   "metadata": {},
   "outputs": [
    {
     "data": {
      "image/png": "[encoded data removed]",
      "text/plain": [
       "<Figure size 432x288 with 1 Axes>"
      ]
     },
     "metadata": {
      "needs_background": "light"
     },
     "output_type": "display_data"
    }
   ],
   "source": [
    "sns.distplot(TSL1, bins = 50, label = 'loss')\n",
    "plt.legend(loc = 'best')\n",
    "plt.show()"
   ]
  },
  {
   "cell_type": "markdown",
   "metadata": {},
   "source": [
    " #### 1-(b) Copula Corr = 0.3"
   ]
  },
  {
   "cell_type": "code",
   "execution_count": 6,
   "metadata": {},
   "outputs": [
    {
     "data": {
      "image/png": "[encoded data removed]",
      "text/plain": [
       "<Figure size 432x288 with 1 Axes>"
      ]
     },
     "metadata": {
      "needs_background": "light"
     },
     "output_type": "display_data"
    }
   ],
   "source": [
    "TSL2 = Gaussian_PF_Loss_density(my_port, copula_corr=0.3, T=1, LGD=0.5, PD=0.012)\n",
    "sns.distplot(TSL2, bins = 50, label = 'loss')\n",
    "plt.legend(loc = 'best')\n",
    "plt.show()"
   ]
  },
  {
   "cell_type": "markdown",
   "metadata": {},
   "source": [
    " #### 1-(c) Calibrate Default Correlation"
   ]
  },
  {
   "cell_type": "code",
   "execution_count": 9,
   "metadata": {},
   "outputs": [
    {
     "data": {
      "text/plain": [
       "0.046321963275834946"
      ]
     },
     "execution_count": 9,
     "metadata": {},
     "output_type": "execute_result"
    }
   ],
   "source": [
    "Def_Corr,Loss_Res, Default_Rate = Gaussian_Default_Corr(0.3,1,0.5,0.012,2000,\n",
    "                                                        Loss_Result = True,\n",
    "                                                       Default_Rate_Result=True)\n",
    "Def_Corr"
   ]
  },
  {
   "cell_type": "code",
   "execution_count": 10,
   "metadata": {},
   "outputs": [
    {
     "data": {
      "image/png": "[encoded data removed]",
      "text/plain": [
       "<Figure size 432x288 with 1 Axes>"
      ]
     },
     "metadata": {
      "needs_background": "light"
     },
     "output_type": "display_data"
    }
   ],
   "source": [
    "sns.distplot(Loss_Res, bins = 30, label = 'Loss_Density')\n",
    "plt.legend(loc = 'best')\n",
    "plt.show()"
   ]
  },
  {
   "cell_type": "markdown",
   "metadata": {},
   "source": [
    " #### 1-(d) Loss Histogram and Default Rate std"
   ]
  },
  {
   "cell_type": "code",
   "execution_count": 11,
   "metadata": {},
   "outputs": [
    {
     "data": {
      "image/png": "[encoded data removed]",
      "text/plain": [
       "<Figure size 432x288 with 1 Axes>"
      ]
     },
     "metadata": {
      "needs_background": "light"
     },
     "output_type": "display_data"
    }
   ],
   "source": [
    "plt.hist(Default_Rate, bins = 30, label = 'Default_Rate_Density')\n",
    "plt.legend(loc = 'best')\n",
    "plt.show()"
   ]
  },
  {
   "cell_type": "code",
   "execution_count": 12,
   "metadata": {},
   "outputs": [
    {
     "data": {
      "text/plain": [
       "0.023803423494111093"
      ]
     },
     "execution_count": 12,
     "metadata": {},
     "output_type": "execute_result"
    }
   ],
   "source": [
    "Default_Rate.std()"
   ]
  },
  {
   "cell_type": "markdown",
   "metadata": {},
   "source": [
    " ##### 1-(e) Fitting the Copula Correlation with Actual Default std and Copula default std"
   ]
  },
  {
   "cell_type": "code",
   "execution_count": 13,
   "metadata": {},
   "outputs": [],
   "source": [
    "Calibrated_Copul_Corr = Calibrate_Copula_Corr(actual_default_std = 0.02,                                              \n",
    "                                              PD = 0.012, T= 1, LGD= 0.5, F = 100,\n",
    "                                              num_obligor = 2000,sim_num = 5000)"
   ]
  },
  {
   "cell_type": "code",
   "execution_count": 14,
   "metadata": {},
   "outputs": [
    {
     "data": {
      "text/plain": [
       "0.24"
      ]
     },
     "execution_count": 14,
     "metadata": {},
     "output_type": "execute_result"
    }
   ],
   "source": [
    "Calibrated_Copul_Corr"
   ]
  },
  {
   "cell_type": "markdown",
   "metadata": {},
   "source": [
    " #### 2-(a) Risk_Capital of 120 loans PF (Copula Corr = 0 )"
   ]
  },
  {
   "cell_type": "code",
   "execution_count": 15,
   "metadata": {},
   "outputs": [
    {
     "data": {
      "text/plain": [
       "26.9378"
      ]
     },
     "execution_count": 15,
     "metadata": {},
     "output_type": "execute_result"
    }
   ],
   "source": [
    "TSL1, Risk_Capital1 = Gaussian_PF_Loss_density(my_port, copula_corr=0, T=1, LGD=0.5, PD=0.012, Result_Riskcapital=True)\n",
    "Risk_Capital1"
   ]
  },
  {
   "cell_type": "markdown",
   "metadata": {},
   "source": [
    " #### 2-(b) Risk_Capital of 120 loans PF (Copula Corr = 0.3)"
   ]
  },
  {
   "cell_type": "code",
   "execution_count": 16,
   "metadata": {},
   "outputs": [
    {
     "data": {
      "text/plain": [
       "154.5478"
      ]
     },
     "execution_count": 16,
     "metadata": {},
     "output_type": "execute_result"
    }
   ],
   "source": [
    "TSL2, Risk_Capital2 = Gaussian_PF_Loss_density(my_port, copula_corr=0.3, T=1, LGD=0.5, PD=0.012, Result_Riskcapital=True)\n",
    "Risk_Capital2"
   ]
  },
  {
   "cell_type": "code",
   "execution_count": null,
   "metadata": {},
   "outputs": [],
   "source": []
  }
 ],
 "metadata": {
  "kernelspec": {
   "display_name": "Python 3",
   "language": "python",
   "name": "python3"
  },
  "language_info": {
   "codemirror_mode": {
    "name": "ipython",
    "version": 3
   },
   "file_extension": ".py",
   "mimetype": "text/x-python",
   "name": "python",
   "nbconvert_exporter": "python",
   "pygments_lexer": "ipython3",
   "version": "3.7.6"
  }
 },
 "nbformat": 4,
 "nbformat_minor": 4
}
