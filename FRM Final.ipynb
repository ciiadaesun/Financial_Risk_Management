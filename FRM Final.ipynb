{
 "cells": [
  {
   "cell_type": "code",
   "execution_count": 6,
   "metadata": {},
   "outputs": [],
   "source": [
    "import numpy as np\n",
    "import pandas as pd\n",
    "from scipy.stats import norm"
   ]
  },
  {
   "cell_type": "code",
   "execution_count": 7,
   "metadata": {},
   "outputs": [],
   "source": [
    "def delta_gamma_loss(Delta, Gamma, dS) :\n",
    "    V_change = dS * Delta + 0.5 * Gamma * dS**2\n",
    "    return V_change\n",
    "\n",
    "def Delta_normal_VaR_Daily(Delta, S, Daily_sigma, ret= 0 ,sign_level = 0.01) :\n",
    "    VaR = norm.ppf(1-sign_level) * Delta * Daily_sigma * S\n",
    "    return VaR"
   ]
  },
  {
   "cell_type": "code",
   "execution_count": 8,
   "metadata": {},
   "outputs": [
    {
     "data": {
      "text/plain": [
       "2000.0"
      ]
     },
     "execution_count": 8,
     "metadata": {},
     "output_type": "execute_result"
    }
   ],
   "source": [
    "Delta = -500 # 포지션조심\n",
    "Gamma = -40 \n",
    "dS = -5 # 부호조심\n",
    "delta_gamma_loss (Delta, Gamma, dS)"
   ]
  },
  {
   "cell_type": "code",
   "execution_count": 9,
   "metadata": {},
   "outputs": [
    {
     "data": {
      "text/plain": [
       "8289.28312384039"
      ]
     },
     "execution_count": 9,
     "metadata": {},
     "output_type": "execute_result"
    }
   ],
   "source": [
    "Delta = 5000\n",
    "S = 40\n",
    "Daily_sigma = 0.4/np.sqrt(252)\n",
    "ret = 0\n",
    "Delta_normal_VaR_Daily(Delta, S, Daily_sigma, ret , sign_level = 0.05)"
   ]
  },
  {
   "cell_type": "code",
   "execution_count": 93,
   "metadata": {},
   "outputs": [],
   "source": [
    "x = np.random.normal(0,10,20000)\n",
    "V = 120 - 0.01 * (100 * (1+x)-100)**2"
   ]
  },
  {
   "cell_type": "code",
   "execution_count": 94,
   "metadata": {},
   "outputs": [
    {
     "data": {
      "text/plain": [
       "-38790.63035896029"
      ]
     },
     "execution_count": 94,
     "metadata": {},
     "output_type": "execute_result"
    }
   ],
   "source": [
    "pd.Series(V - 100).quantile(0.05)"
   ]
  },
  {
   "cell_type": "markdown",
   "metadata": {},
   "source": [
    "\\begin{align}\n",
    "\\\\\n",
    "\\ x = \\alpha - u \\\n",
    "\\\\\n",
    "\\\\\n",
    "\\ P(X>\\alpha)= P(X>u)(1+ \\epsilon  \\frac{x}{\\beta})^{- \\frac{1}{\\epsilon}}\\\\\n",
    "\\\\\n",
    "\\ = EVT(u, P(X>u) , \\beta, \\epsilon, \\alpha) \\\n",
    "\\end{align}\n"
   ]
  },
  {
   "cell_type": "code",
   "execution_count": 10,
   "metadata": {},
   "outputs": [],
   "source": [
    "def EVT(u, p_u, beta, psi, alpha) :\n",
    "    x = alpha - u\n",
    "    conditional_P = (1 + psi * x/beta)**(-1/psi)\n",
    "    return p_u * conditional_P"
   ]
  },
  {
   "cell_type": "code",
   "execution_count": 11,
   "metadata": {},
   "outputs": [
    {
     "data": {
      "text/plain": [
       "0.0031547891618699214"
      ]
     },
     "execution_count": 11,
     "metadata": {},
     "output_type": "execute_result"
    }
   ],
   "source": [
    "u = 0.04\n",
    "p_u = 0.0502\n",
    "beta = 0.019397\n",
    "psi = -0.05186\n",
    "alpha = 0.09\n",
    "EVT(u, p_u, beta, psi, alpha)"
   ]
  },
  {
   "cell_type": "markdown",
   "metadata": {},
   "source": [
    " # Gaussian Copula Default Time"
   ]
  },
  {
   "cell_type": "code",
   "execution_count": 12,
   "metadata": {},
   "outputs": [],
   "source": [
    "def Default_Time(lamb, Z) :\n",
    "    tau = -np.log(1-norm.cdf(Z))/lamb\n",
    "    return tau"
   ]
  },
  {
   "cell_type": "code",
   "execution_count": 13,
   "metadata": {},
   "outputs": [
    {
     "data": {
      "text/plain": [
       "2.3611373366057737"
      ]
     },
     "execution_count": 13,
     "metadata": {},
     "output_type": "execute_result"
    }
   ],
   "source": [
    "lamb = 0.04\n",
    "Z = -1.34\n",
    "Default_Time(lamb, Z)"
   ]
  },
  {
   "cell_type": "markdown",
   "metadata": {},
   "source": [
    " # 2 Year Transition Prob\n"
   ]
  },
  {
   "cell_type": "code",
   "execution_count": 14,
   "metadata": {},
   "outputs": [],
   "source": [
    "A = (np.array([0.04, 2.04, 87.19, 5.30, 0.4, 0.16, 0.03])/100).reshape(1,-1)\n",
    "B = (np.array([0.06,0.54,5.3,84.28,5.3,0.26,0.34])/100).reshape(-1,1)\n",
    "A_to_B = A.dot(B)"
   ]
  },
  {
   "cell_type": "markdown",
   "metadata": {},
   "source": [
    " # Barrier Model"
   ]
  },
  {
   "cell_type": "code",
   "execution_count": 15,
   "metadata": {},
   "outputs": [],
   "source": [
    "m = 2.3263 # distance_to_default\n",
    "alpha = 0 # (mu - r(Debt growth rate) - 0.5 * sigma^2 )\n",
    "u = 1 # Maturity\n",
    "def Prob_Default(m, alpha, u) :\n",
    "    P_Default = norm.cdf((-m-alpha*u)/np.sqrt(u)) + np.exp(-2*alpha*m) * norm.cdf((-m+alpha*u)/np.sqrt(u))\n",
    "    return P_Default"
   ]
  },
  {
   "cell_type": "code",
   "execution_count": 21,
   "metadata": {
    "scrolled": true
   },
   "outputs": [
    {
     "data": {
      "text/plain": [
       "0.04999579029644087"
      ]
     },
     "execution_count": 21,
     "metadata": {},
     "output_type": "execute_result"
    }
   ],
   "source": [
    "Prob_Default(1.96, 0, 1)"
   ]
  },
  {
   "cell_type": "code",
   "execution_count": 2,
   "metadata": {},
   "outputs": [
    {
     "data": {
      "text/plain": [
       "0.021134020618556702"
      ]
     },
     "execution_count": 2,
     "metadata": {},
     "output_type": "execute_result"
    }
   ],
   "source": [
    "(0.00303 - 0.03**2)/(0.03 * 0.97) * 0.5 + 0.5 * (-0.03**2)/(0.03*0.97)"
   ]
  },
  {
   "cell_type": "markdown",
   "metadata": {},
   "source": [
    " # KMV Structural Model"
   ]
  },
  {
   "cell_type": "code",
   "execution_count": 25,
   "metadata": {},
   "outputs": [],
   "source": [
    "d = 2.054 # distance to default\n",
    "PD = norm.cdf(-d)"
   ]
  },
  {
   "cell_type": "code",
   "execution_count": 26,
   "metadata": {},
   "outputs": [
    {
     "data": {
      "text/plain": [
       "0.019987845855041885"
      ]
     },
     "execution_count": 26,
     "metadata": {},
     "output_type": "execute_result"
    }
   ],
   "source": [
    "PD"
   ]
  },
  {
   "cell_type": "code",
   "execution_count": 48,
   "metadata": {
    "scrolled": true
   },
   "outputs": [
    {
     "data": {
      "text/plain": [
       "0.010009275340867669"
      ]
     },
     "execution_count": 48,
     "metadata": {},
     "output_type": "execute_result"
    }
   ],
   "source": [
    "norm.cdf(-2.326)"
   ]
  },
  {
   "cell_type": "markdown",
   "metadata": {},
   "source": [
    " # 추가 Chava Jarrow"
   ]
  },
  {
   "cell_type": "markdown",
   "metadata": {},
   "source": [
    "\\begin{align}\n",
    "\\\\\n",
    "\\ 1 factor => P = \\frac{1}{1+exp(-\\alpha - \\beta X)} \\\n",
    "\\\\\\\\\n",
    "\\ 2 factor => P= \\frac{1}{1+exp(-\\alpha - \\beta_1 X_1 - \\beta_2 X_2)}\n",
    "\\\\\n",
    "\\\\\n",
    "\\end{align}"
   ]
  },
  {
   "cell_type": "code",
   "execution_count": 77,
   "metadata": {},
   "outputs": [],
   "source": [
    "def Prob(params, variable) :\n",
    "    return 1/(1+np.exp( (params * -np.concatenate([[1],variable])).sum() ))\n",
    "def Marginal_Prob(params, variable) :\n",
    "    P = 1/(1+np.exp( (params * -np.concatenate([[1],variable])).sum() ))\n",
    "    M = (1/P)**2 * np.exp((params * -np.concatenate([[1],variable])).sum() ) * np.array(params)[1:].reshape(-1,1)\n",
    "    return M.reshape(-1)"
   ]
  },
  {
   "cell_type": "code",
   "execution_count": 99,
   "metadata": {},
   "outputs": [
    {
     "data": {
      "text/plain": [
       "0.27681813389831134"
      ]
     },
     "execution_count": 99,
     "metadata": {},
     "output_type": "execute_result"
    }
   ],
   "source": [
    "# one factor\n",
    "Prob([-1.6406, 0.6803], [1])"
   ]
  },
  {
   "cell_type": "code",
   "execution_count": 101,
   "metadata": {},
   "outputs": [
    {
     "data": {
      "text/plain": [
       "0.16330363219489724"
      ]
     },
     "execution_count": 101,
     "metadata": {},
     "output_type": "execute_result"
    }
   ],
   "source": [
    "# two factor\n",
    "Prob([-1.6406, -0.1667, 0.6803], [2, .5])"
   ]
  },
  {
   "cell_type": "markdown",
   "metadata": {},
   "source": [
    "\\begin{align}\n",
    "\\\\\n",
    "\\ 1 factor => \\frac{dP}{dX} = {(\\frac{1}{P})}^2 \\bullet {exp(-\\alpha - \\beta X)} \\beta \\\n",
    "\\\\\\\\\n",
    "\\ 2 factor => \\frac{dP}{dX_1} = {(\\frac{1}{P})}^2 \\bullet {exp(-\\alpha - \\beta_1 X_1 - \\beta_2 X_2 )} \\beta_1 \\\\ \\ \\frac{dP}{dX_2} = {(\\frac{1}{P})}^2 \\bullet {exp(-\\alpha - \\beta_1 X_1 - \\beta_2 X_2 )} \\beta_2 \\ \n",
    "\\\\\n",
    "\\\\\n",
    "\\end{align}"
   ]
  },
  {
   "cell_type": "code",
   "execution_count": 103,
   "metadata": {},
   "outputs": [
    {
     "data": {
      "text/plain": [
       "array([32.47107974])"
      ]
     },
     "execution_count": 103,
     "metadata": {},
     "output_type": "execute_result"
    }
   ],
   "source": [
    "# one factor\n",
    "Marginal_Prob([-1.6406, 0.6803], [.8])"
   ]
  },
  {
   "cell_type": "code",
   "execution_count": 102,
   "metadata": {
    "scrolled": true
   },
   "outputs": [
    {
     "data": {
      "text/plain": [
       "array([-32.02697717, 130.70157512])"
      ]
     },
     "execution_count": 102,
     "metadata": {},
     "output_type": "execute_result"
    }
   ],
   "source": [
    "# two factor\n",
    "Marginal_Prob([-1.6406, -0.1667, 0.6803], [2,0.5])"
   ]
  },
  {
   "cell_type": "markdown",
   "metadata": {},
   "source": [
    " # Weighted historical simulation"
   ]
  },
  {
   "cell_type": "markdown",
   "metadata": {},
   "source": [
    "\\begin{align}\n",
    "\\\\\n",
    "\\ w_N = \\frac{(1-\\lambda)}{(1-\\lambda^{number of data})} \\lambda^{N-1}\\\n",
    "\\\\\n",
    "\\\\\n",
    "\\end{align}\n"
   ]
  },
  {
   "cell_type": "code",
   "execution_count": 91,
   "metadata": {},
   "outputs": [],
   "source": [
    "number_of_data = 500\n",
    "lamb = 0.95\n",
    "nth_past = 5"
   ]
  },
  {
   "cell_type": "code",
   "execution_count": 92,
   "metadata": {},
   "outputs": [],
   "source": [
    "w = (1-lamb)/(1-lamb**number_of_data) * lamb**(nth_past-1)"
   ]
  },
  {
   "cell_type": "code",
   "execution_count": 93,
   "metadata": {},
   "outputs": [
    {
     "data": {
      "text/plain": [
       "0.04072531250029628"
      ]
     },
     "execution_count": 93,
     "metadata": {},
     "output_type": "execute_result"
    }
   ],
   "source": [
    "w"
   ]
  },
  {
   "cell_type": "code",
   "execution_count": null,
   "metadata": {},
   "outputs": [],
   "source": []
  }
 ],
 "metadata": {
  "kernelspec": {
   "display_name": "Python 3",
   "language": "python",
   "name": "python3"
  },
  "language_info": {
   "codemirror_mode": {
    "name": "ipython",
    "version": 3
   },
   "file_extension": ".py",
   "mimetype": "text/x-python",
   "name": "python",
   "nbconvert_exporter": "python",
   "pygments_lexer": "ipython3",
   "version": "3.7.6"
  }
 },
 "nbformat": 4,
 "nbformat_minor": 4
}
